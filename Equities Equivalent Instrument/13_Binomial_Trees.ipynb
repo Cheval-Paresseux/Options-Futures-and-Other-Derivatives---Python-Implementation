{
 "cells": [
  {
   "cell_type": "markdown",
   "metadata": {},
   "source": [
    "# 📊 Introduction to Binomial Trees for Option Pricing\n",
    "\n",
    "## Overview\n",
    "In this notebook, we explore the use of **binomial trees** for pricing options, based on the principles outlined in Chapter 11 of John Hull's *Options, Futures, and Other Derivatives*. The binomial tree method is a flexible and powerful tool for pricing European and American options, and it allows for adjustments in various parameters, including volatility, time to expiration, and the nature of the underlying asset.\n",
    "\n",
    "## 🌳 What is a Binomial Tree?\n",
    "A binomial tree is a discrete-time model for the evolution of the price of an underlying asset over time. It provides a step-by-step method to model the potential future movements of the asset price, where at each step, the price can move **up** or **down** by certain factors.\n",
    "\n",
    "### Key Features:\n",
    "- **Time-Stepping**: The life of the option is divided into equal time intervals, and at each interval, the underlying asset can move up or down.\n",
    "- **Risk-Neutral Valuation**: The model assumes a **risk-neutral world**, where expected returns are the same as the risk-free rate, simplifying the valuation of derivatives.\n",
    "- **Flexibility**: Binomial trees are highly flexible and can handle different payoff structures and American options, which can be exercised at any point before expiration.\n",
    "\n",
    "## ⚙️ Key Parameters\n",
    "In a binomial model, the following parameters are essential for constructing the tree:\n",
    "- **u**: The upward movement factor.\n",
    "- **d**: The downward movement factor.\n",
    "- **p**: The probability of an upward movement, based on risk-neutral probabilities.\n",
    "- **r**: The risk-free interest rate.\n",
    "- **Δt**: The time step, which is the total time to maturity divided by the number of steps in the tree.\n",
    "\n",
    "The **upward factor** ($u$) and **downward factor** ($d$) are given by:\n",
    "$$\n",
    "u = e^{\\sigma \\sqrt{\\Delta t}}\n",
    "$$\n",
    "$$\n",
    "d = e^{-\\sigma \\sqrt{\\Delta t}}\n",
    "$$\n",
    "Where:\n",
    "- $\\sigma$ is the volatility of the underlying asset.\n",
    "- $\\Delta t$ is the time interval between each step.\n",
    "\n",
    "The **risk-neutral probability** ($p$) is calculated as:\n",
    "$$\n",
    "p = \\frac{e^{r \\Delta t} - d}{u - d}\n",
    "$$\n",
    "\n",
    "## 🧮 Option Valuation Using Binomial Trees\n",
    "To value an option using a binomial tree:\n",
    "1. **Construct the tree** of possible asset prices at each time step.\n",
    "2. **Calculate the option payoff** at each final node (at maturity).\n",
    "3. **Work backwards** through the tree, discounting the option value at each node using the risk-neutral probabilities until the current time is reached.\n",
    "\n",
    "For an **American option**, early exercise is evaluated at each node, comparing the value of exercising versus holding the option.\n",
    "\n",
    "## 🚀 Advantages of the Binomial Model\n",
    "- Can be used for both **European** and **American options**.\n",
    "- Handles situations where the option can be exercised before expiration.\n",
    "- Provides flexibility in modeling varying dividends and volatility."
   ]
  },
  {
   "cell_type": "code",
   "execution_count": 2,
   "metadata": {},
   "outputs": [],
   "source": [
    "import numpy as np"
   ]
  },
  {
   "cell_type": "code",
   "execution_count": 3,
   "metadata": {},
   "outputs": [
    {
     "name": "stdout",
     "output_type": "stream",
     "text": [
      "Parameter p : 0.5097408651817704\n",
      "First branch : [67.49294037880016, 37.040911034085894]\n",
      "Second branch : [91.10594001952546, 50.0, 50.00000000000001, 27.440581804701324]\n",
      "The put value at t0 is : 6.9025753364216245\n"
     ]
    }
   ],
   "source": [
    "# Example \n",
    "\"\"\"\n",
    "Pricing an amercian put.\n",
    "\"\"\"\n",
    "spot = 50\n",
    "strike = 52\n",
    "rf = 0.05\n",
    "vol = 0.3\n",
    "dt = 1 # Option maturity = 2y and we want to compute a tree with two branch\n",
    "\n",
    "# First we estimate p\n",
    "u = np.exp(vol * np.sqrt(dt))\n",
    "d = np.exp(-vol * np.sqrt(dt))\n",
    "\n",
    "p = (np.exp(rf * dt) - d) / (u - d)\n",
    "print(f'Parameter p : {p}')\n",
    "\n",
    "first_branch = [spot * u, spot * d]\n",
    "second_branch = [first_branch[0] * u, first_branch[0] * d, first_branch[1] * u, first_branch[1] * d]\n",
    "print(f'First branch : {first_branch}')\n",
    "print(f'Second branch : {second_branch}')\n",
    "\n",
    "put_value_b2 = [max(strike - second_branch[0], 0), max(strike - second_branch[1], 0), max(strike - second_branch[2], 0), max(strike - second_branch[3], 0)]\n",
    "put_value_b1 = [p * put_value_b2[0] + (1 - p) * put_value_b2[1], p * put_value_b2[2] + (1 - p) * put_value_b2[3]]\n",
    "put_value_b0 = p * put_value_b1[0] + (1 - p) * put_value_b1[1]\n",
    "\n",
    "print(f'The put value at t0 is : {put_value_b0}')"
   ]
  },
  {
   "cell_type": "markdown",
   "metadata": {},
   "source": [
    "***Problems & Exercises***"
   ]
  },
  {
   "cell_type": "code",
   "execution_count": 11,
   "metadata": {},
   "outputs": [
    {
     "name": "stdout",
     "output_type": "stream",
     "text": [
      "the european call value is : 9.609206301971435\n"
     ]
    }
   ],
   "source": [
    "# 13.11\n",
    "\"\"\"\n",
    "Pricing an European call.\n",
    "\"\"\"\n",
    "spot = 100\n",
    "u_d = 0.1\n",
    "rf = 0.08\n",
    "periods = 2 \n",
    "maturity = 1\n",
    "K = 100\n",
    "\n",
    "# We'll make a function so we can use it for different exercises\n",
    "def binomial_tree(option_type: str, spot: float, strike: float, risk_free: float, maturity: int, number_of_branch: int, sigma: float=None, up: float=None, down: float=None):\n",
    "    # First we prevent any wrong input\n",
    "    if ((not u_d) and (not sigma)) or (u_d and sigma):\n",
    "        print('You should either put u_d or sigma')\n",
    "        return\n",
    "    \n",
    "    # Then, we compute the parameters\n",
    "    dt = maturity / number_of_branch\n",
    "    \n",
    "    if sigma:\n",
    "        u = np.exp(sigma * np.sqrt(dt))\n",
    "        d = np.exp(-sigma * np.sqrt(dt))\n",
    "    else:\n",
    "        u = 1 + up\n",
    "        d = 1 - down\n",
    "    \n",
    "    p = (np.exp(risk_free * dt) - d) / (u - d)\n",
    "    \n",
    "    # We model the tree as a matrix (the tree grows in the upper triangle)\n",
    "    tree = np.zeros((number_of_branch + 1, number_of_branch + 1))\n",
    "    tree[0, 0] = spot\n",
    "    for i in range(1, number_of_branch + 1):\n",
    "        tree[i, 0] = tree[i - 1, 0] * u \n",
    "        for j in range(1, i + 1):\n",
    "            tree[i, j] = tree[i - 1, j - 1] * d\n",
    "    \n",
    "    # Calculate the option values at maturity\n",
    "    option_values = np.zeros((number_of_branch + 1))\n",
    "    for j in range(number_of_branch + 1):\n",
    "        if option_type.lower() == 'call':\n",
    "            option_values[j] = max(0, tree[number_of_branch, j] - strike)\n",
    "        elif option_type.lower() == 'put':\n",
    "            option_values[j] = max(0, strike - tree[number_of_branch, j])\n",
    "    \n",
    "    # Backward induction to get the option price at time 0\n",
    "    for i in range(number_of_branch - 1, -1, -1):\n",
    "        for j in range(i + 1):\n",
    "            option_values[j] = (p * option_values[j] + (1 - p) * option_values[j + 1]) * np.exp(-risk_free * dt)\n",
    "    \n",
    "    return option_values[0]\n",
    "    \n",
    "# Now we can price our european call\n",
    "call_price = binomial_tree(option_type='call', spot=spot, strike=K, risk_free=rf, maturity=maturity, number_of_branch=periods, up=u_d, down=u_d)\n",
    "print(f'the european call value is : {call_price}')"
   ]
  },
  {
   "cell_type": "code",
   "execution_count": 12,
   "metadata": {},
   "outputs": [
    {
     "name": "stdout",
     "output_type": "stream",
     "text": [
      "the european call value is : 1.9208409406350109\n",
      "Call-Put Parity is respected\n"
     ]
    }
   ],
   "source": [
    "# 13.12 \n",
    "\"\"\"\n",
    "Same exercise but with a put. \n",
    "\"\"\"\n",
    "put_price = binomial_tree(option_type='put', spot=spot, strike=K, risk_free=rf, maturity=maturity, number_of_branch=periods, up=u_d, down=u_d)\n",
    "print(f'the european call value is : {put_price}')\n",
    "\n",
    "# Check for call-put parity\n",
    "if put_price + spot == call_price + K * np.exp(-rf * maturity):\n",
    "    print('Call-Put Parity is respected')"
   ]
  },
  {
   "cell_type": "code",
   "execution_count": 16,
   "metadata": {},
   "outputs": [
    {
     "name": "stdout",
     "output_type": "stream",
     "text": [
      "the european call value is : 1.6350711385184145\n"
     ]
    }
   ],
   "source": [
    "# 13.17 \n",
    "\"\"\"\n",
    "European call pricing.\n",
    "\"\"\"\n",
    "spot = 50\n",
    "u = 0.06\n",
    "d = 0.05\n",
    "rf = 0.05\n",
    "periods = 2\n",
    "maturity = 0.5\n",
    "K = 51\n",
    "\n",
    "call_price = binomial_tree(option_type='call', spot=spot, strike=K, risk_free=rf, maturity=maturity, number_of_branch=periods, up=u, down=d)\n",
    "print(f'the european call value is : {call_price}')"
   ]
  },
  {
   "cell_type": "code",
   "execution_count": 19,
   "metadata": {},
   "outputs": [
    {
     "name": "stdout",
     "output_type": "stream",
     "text": [
      "the european call value is : 1.37587665196338\n"
     ]
    }
   ],
   "source": [
    "# 13.18 \n",
    "\"\"\"\n",
    "Just pricing the put.\n",
    "\"\"\"\n",
    "K = 51\n",
    "put_price = binomial_tree(option_type='put', spot=spot, strike=K, risk_free=rf, maturity=maturity, number_of_branch=periods, up=u, down=d)\n",
    "print(f'the european call value is : {put_price}')"
   ]
  },
  {
   "cell_type": "markdown",
   "metadata": {},
   "source": [
    "***Since we have a created a function, the other exercises are not really interesting***"
   ]
  }
 ],
 "metadata": {
  "kernelspec": {
   "display_name": "base",
   "language": "python",
   "name": "python3"
  },
  "language_info": {
   "codemirror_mode": {
    "name": "ipython",
    "version": 3
   },
   "file_extension": ".py",
   "mimetype": "text/x-python",
   "name": "python",
   "nbconvert_exporter": "python",
   "pygments_lexer": "ipython3",
   "version": "3.11.5"
  }
 },
 "nbformat": 4,
 "nbformat_minor": 2
}
