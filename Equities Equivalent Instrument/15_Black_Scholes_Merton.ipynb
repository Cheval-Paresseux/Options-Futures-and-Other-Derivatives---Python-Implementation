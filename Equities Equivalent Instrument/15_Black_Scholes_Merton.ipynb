{
 "cells": [
  {
   "cell_type": "markdown",
   "metadata": {},
   "source": [
    "# 📈 The Black-Scholes-Merton Model: A Breakthrough in Options Pricing\n",
    "\n",
    "## Introduction\n",
    "\n",
    "In this chapter, we explore one of the most significant achievements in the field of financial derivatives—the **Black-Scholes-Merton (BSM) model**. This model provides a closed-form solution for pricing European options, laying the foundation for modern options theory and influencing the development of many financial models. In this notebook, we will:\n",
    "\n",
    "- Understand the key assumptions and derivation of the BSM model.\n",
    "- Explore the **Black-Scholes equation**, a partial differential equation at the heart of the model.\n",
    "- Introduce the concept of the **risk-neutral world**, crucial for pricing derivatives.\n",
    "- Demonstrate how the BSM formula can be applied to calculate option prices.\n",
    "\n",
    "The BSM model revolutionized options pricing by eliminating the need for subjective risk preferences and providing a replicable method for pricing options under uncertainty.\n",
    "\n",
    "## ⚖️ Assumptions of the Black-Scholes-Merton Model\n",
    "\n",
    "The BSM model relies on a set of simplifying assumptions that allow for an elegant mathematical solution. These assumptions include:\n",
    "\n",
    "1. **No Arbitrage**: The model assumes that arbitrage opportunities do not exist in the market.\n",
    "2. **Efficient Markets**: All market participants have equal access to information, and prices reflect all known information.\n",
    "3. **Constant Risk-Free Rate**: The risk-free rate remains constant over the option's life.\n",
    "4. **Log-Normal Stock Price Distribution**: The stock prices follow a **Geometric Brownian Motion (GBM)**, implying they exhibit a continuous log-normal distribution.\n",
    "5. **No Dividends**: The underlying asset does not pay any dividends during the option's life.\n",
    "6. **Constant Volatility**: The volatility of the stock price is assumed to be constant over time.\n",
    "\n",
    "While these assumptions simplify the mathematical framework, they also highlight the model's limitations in real-world applications. Nonetheless, it serves as a powerful tool for understanding the dynamics of option pricing.\n",
    "\n",
    "## 🔍 The Black-Scholes Equation\n",
    "\n",
    "The Black-Scholes model is built upon the **Black-Scholes partial differential equation (PDE)**, which governs the price of the option as a function of time and the price of the underlying asset:\n",
    "\n",
    "$$\n",
    "\\frac{\\partial V}{\\partial t} + r S \\frac{\\partial V}{\\partial S} + \\frac{1}{2} \\sigma^2 S^2 \\frac{\\partial^2 V}{\\partial S^2} = r V\n",
    "$$\n",
    "\n",
    "Where:\n",
    "- $V$ is the value of the option.\n",
    "- $S$ is the price of the underlying asset.\n",
    "- $r$ is the risk-free interest rate.\n",
    "- $\\sigma$ is the volatility of the asset price.\n",
    "- $t$ is time.\n",
    "\n",
    "The solution to this equation under the right boundary conditions leads to the famous **Black-Scholes pricing formulas** for European call and put options.\n",
    "\n",
    "## 🛡️ The Risk-Neutral World\n",
    "\n",
    "A critical concept introduced by the BSM model is that of the **risk-neutral world**. In this framework, all investors are indifferent to risk, meaning that they require no extra return for taking on additional risk. The implication is that the expected return on the underlying asset is equal to the risk-free rate when valuing options, rather than the asset's actual expected return. This simplifies the pricing of derivatives by focusing on replication and arbitrage-free pricing.\n",
    "\n",
    "## 🧮 Black-Scholes Pricing Formula\n",
    "\n",
    "The closed-form solutions for the prices of European call and put options under the BSM model are as follows:\n",
    "\n",
    "### Call Option:\n",
    "$$\n",
    "C = S_0 N(d_1) - X e^{-rT} N(d_2)\n",
    "$$\n",
    "\n",
    "### Put Option:\n",
    "$$\n",
    "P = X e^{-rT} N(-d_2) - S_0 N(-d_1)\n",
    "$$\n",
    "\n",
    "Where:\n",
    "- $C$ is the price of the call option.\n",
    "- $P$ is the price of the put option.\n",
    "- $S_0$ is the current stock price.\n",
    "- $X$ is the strike price.\n",
    "- $r$ is the risk-free interest rate.\n",
    "- $T$ is the time to maturity.\n",
    "- $N(d)$ is the cumulative distribution function of the standard normal distribution.\n",
    "- $d_1$ and $d_2$ are calculated as:\n",
    "\n",
    "$$\n",
    "d_1 = \\frac{\\ln(S_0 / X) + (r + \\frac{1}{2} \\sigma^2) T}{\\sigma \\sqrt{T}}\n",
    "$$\n",
    "\n",
    "$$\n",
    "d_2 = d_1 - \\sigma \\sqrt{T}\n",
    "$$\n",
    "\n",
    "## 🔄 Applications in Finance\n",
    "\n",
    "1. **Option Pricing**: The BSM model provides a straightforward method for pricing European call and put options.\n",
    "2. **Risk Management**: The model aids in determining **option Greeks**, such as delta, gamma, and theta, which are used to hedge option positions and manage risk.\n",
    "3. **Volatility Estimation**: Implied volatility, derived from the BSM model, plays a key role in market analysis and trading strategies."
   ]
  },
  {
   "cell_type": "code",
   "execution_count": 1,
   "metadata": {},
   "outputs": [],
   "source": [
    "import numpy as np\n",
    "import scipy.stats as stats"
   ]
  },
  {
   "cell_type": "code",
   "execution_count": 2,
   "metadata": {},
   "outputs": [],
   "source": [
    "def Black_Scholes_Merton(\n",
    "    spot : float, \n",
    "    strike : float, \n",
    "    maturity : float, \n",
    "    risk_free_rate : float, \n",
    "    volatility : float,\n",
    "):\n",
    "    \"\"\"\n",
    "    This function calculates the price of a European option using the Black-Scholes-Merton formula.\n",
    "    \n",
    "    Args: \n",
    "        spot (float): The current price of the underlying asset.\n",
    "        strike (float): The strike price of the option.\n",
    "        maturity (float): The time to maturity of the option.\n",
    "        risk_free_rate (float): The risk-free interest rate.\n",
    "        volatility (float): The volatility of the underlying asset.\n",
    "    \n",
    "    Returns:\n",
    "        call_price (float): The price of a European call option.\n",
    "        put_price (float): The price of a European put option.\n",
    "    \"\"\"\n",
    "    # ======= I. Compute N(d1) & N(d2) ======= \n",
    "    \n",
    "    # d1 is the standardized distance between the current asset price and the strike price, adjusted for volatility and time to expiration.\n",
    "    # N(d1) is the risk-adjusted probability that the option will expire in the money, considering the option's price sensitivity to changes in the underlying asset's price.\n",
    "    d1 = (np.log(spot / strike) + (risk_free_rate + 0.5 * volatility ** 2) * maturity) / (volatility * np.sqrt(maturity))\n",
    "    N_d1 = stats.norm.cdf(d1)\n",
    "    \n",
    "    # d2 is the standardized distance between the current asset price and the strike price, adjusted for volatility and time to expiration, accounting for the probability of the option expiring in the money.\n",
    "    # N(d2) is the the probability that the option will be exercised, accounting for the expected future value of the underlying asset when adjusted for time and volatility.\n",
    "    d2 = d1 - volatility * np.sqrt(maturity)\n",
    "    N_d2 = stats.norm.cdf(d2)\n",
    "    \n",
    "    # ======= II. Compute the price of both put and call options =======\n",
    "    call_price = spot * N_d1 - strike * np.exp(-risk_free_rate * maturity) * N_d2\n",
    "    put_price = strike * np.exp(-risk_free_rate * maturity) * stats.norm.cdf(-d2) - spot * stats.norm.cdf(-d1)\n",
    "    \n",
    "    return call_price, put_price"
   ]
  },
  {
   "cell_type": "markdown",
   "metadata": {},
   "source": [
    "---\n",
    "## **Problems & Exercises**"
   ]
  },
  {
   "cell_type": "code",
   "execution_count": 3,
   "metadata": {},
   "outputs": [
    {
     "name": "stdout",
     "output_type": "stream",
     "text": [
      "Daily volatility:  0.01889822365046136\n"
     ]
    }
   ],
   "source": [
    "\"\"\"\n",
    "15.12\n",
    "From annual variance to daily variance. \n",
    "\"\"\"\n",
    "annual_vol = 0.3\n",
    "daily_vol = annual_vol / np.sqrt(252)\n",
    "\n",
    "print(\"Daily volatility: \", daily_vol)"
   ]
  },
  {
   "cell_type": "code",
   "execution_count": 4,
   "metadata": {},
   "outputs": [
    {
     "name": "stdout",
     "output_type": "stream",
     "text": [
      "Put price: 2.38\n"
     ]
    }
   ],
   "source": [
    "\"\"\"\n",
    "15.13\n",
    "Pricing a european put.\n",
    "\"\"\"\n",
    "maturity = 3/12\n",
    "strike = 50\n",
    "spot = 50\n",
    "risk_free_rate = 0.1\n",
    "volatility = 0.3\n",
    "\n",
    "call_price, put_price = Black_Scholes_Merton(spot, strike, maturity, risk_free_rate, volatility)\n",
    "print(f\"Put price: {put_price:.2f}\")"
   ]
  },
  {
   "cell_type": "code",
   "execution_count": 5,
   "metadata": {},
   "outputs": [
    {
     "name": "stdout",
     "output_type": "stream",
     "text": [
      "Put price with dividend: 3.03\n"
     ]
    }
   ],
   "source": [
    "\"\"\"\n",
    "15.14\n",
    "Pricing the same put option but with a dividend.\n",
    "\"\"\"\n",
    "dividend_maturity = 2/12\n",
    "dividend_value = 1.5\n",
    "new_spot = spot - dividend_value * np.exp(-risk_free_rate * dividend_maturity)\n",
    "\n",
    "call_price, put_price = Black_Scholes_Merton(new_spot, strike, maturity, risk_free_rate, volatility)\n",
    "print(f\"Put price with dividend: {put_price:.2f}\")"
   ]
  },
  {
   "cell_type": "code",
   "execution_count": 26,
   "metadata": {},
   "outputs": [
    {
     "name": "stdout",
     "output_type": "stream",
     "text": [
      "Probability of call option being exercised: 0.496907797501081\n",
      "Probability of put option being exercised: 0.5030922024989191\n"
     ]
    }
   ],
   "source": [
    "\"\"\"\n",
    "15.16\n",
    "Probability of a call option being exercised.\n",
    "\"\"\"\n",
    "maturity = 6/12\n",
    "strike = 40\n",
    "spot = 38\n",
    "volatility = 0.35\n",
    "\n",
    "# We will use the d2 formula to calculate the probability of the call option being exercised.\n",
    "# But as we don't have the risk-free rate but have the expected return, we will use the expected return as the risk-free rate.\n",
    "# This is not the best practice, but it is a good approximation.\n",
    "risk_free_rate = 0.16\n",
    "d2 = (np.log(spot / strike) + (risk_free_rate - 0.5 * volatility ** 2) * maturity) / (volatility * np.sqrt(maturity))\n",
    "N_d2 = stats.norm.cdf(d2)\n",
    "\n",
    "print(f\"Probability of call option being exercised: {N_d2}\")\n",
    "\n",
    "probability_put = 1 - N_d2\n",
    "print(f\"Probability of put option being exercised: {probability_put}\")"
   ]
  },
  {
   "cell_type": "code",
   "execution_count": 27,
   "metadata": {},
   "outputs": [
    {
     "name": "stdout",
     "output_type": "stream",
     "text": [
      "Call price: 5.057386759734403\n"
     ]
    }
   ],
   "source": [
    "\"\"\"\n",
    "15.21\n",
    "Pricing a european call option with Black-Scholes-Merton.\n",
    "\"\"\"\n",
    "spot = 52\n",
    "strike = 50\n",
    "risk_free_rate = 0.12\n",
    "volatility = 0.3\n",
    "maturity = 3/12\n",
    "\n",
    "call_price, put_price = Black_Scholes_Merton(spot, strike, maturity, risk_free_rate, volatility)\n",
    "print(f\"Call price: {call_price}\")"
   ]
  },
  {
   "cell_type": "code",
   "execution_count": 28,
   "metadata": {},
   "outputs": [
    {
     "name": "stdout",
     "output_type": "stream",
     "text": [
      "Put price: 6.401407649076464\n"
     ]
    }
   ],
   "source": [
    "\"\"\"\n",
    "15.22\n",
    "Pricing a european put option with Black-Scholes-Merton.\n",
    "\"\"\"\n",
    "spot = 69\n",
    "strike = 70\n",
    "risk_free_rate = 0.05\n",
    "vol = 0.35\n",
    "maturity = 6/12\n",
    "\n",
    "call_price, put_price = Black_Scholes_Merton(spot, strike, maturity, risk_free_rate, vol)\n",
    "print(f\"Put price: {put_price}\")"
   ]
  },
  {
   "cell_type": "code",
   "execution_count": 29,
   "metadata": {},
   "outputs": [
    {
     "name": "stdout",
     "output_type": "stream",
     "text": [
      "Early exercise is not optimal at the second dividend payment.\n",
      "Early exercise is not optimal at the first dividend payment.\n"
     ]
    }
   ],
   "source": [
    "\"\"\"\n",
    "15.23\n",
    "Pricing an american call option that pays dividends.\n",
    "\"\"\"\n",
    "spot = 70\n",
    "maturity = 8/12\n",
    "risk_free_rate = 0.1\n",
    "strike = 65\n",
    "volatility = 0.32\n",
    "dividend = 1\n",
    "maturity_dividend_1 = 3/12\n",
    "maturity_dividend_2 = 6/12\n",
    "\n",
    "# We want to compare the present value of the strike price with the value of the dividends.\n",
    "# First we place ourselves at the time of the second dividend payment.\n",
    "pv_early_exercise_2 = strike * (1 - np.exp(-risk_free_rate * (maturity - maturity_dividend_2)))\n",
    "if pv_early_exercise_2 > dividend:\n",
    "    print(\"Early exercise is not optimal at the second dividend payment.\")\n",
    "    \n",
    "# Now we place ourselves at the time of the first dividend payment.\n",
    "pv_early_exercise_1 = strike * (1 - np.exp(-risk_free_rate * (maturity_dividend_2 - maturity_dividend_1))) \n",
    "if pv_early_exercise_1 > dividend:\n",
    "    print(\"Early exercise is not optimal at the first dividend payment.\")"
   ]
  },
  {
   "cell_type": "code",
   "execution_count": 30,
   "metadata": {},
   "outputs": [
    {
     "name": "stdout",
     "output_type": "stream",
     "text": [
      "Implied volatility: 0.39643540479351286\n"
     ]
    }
   ],
   "source": [
    "\"\"\"\n",
    "15.24\n",
    "Computing the implied volatility of a call option.\n",
    "\"\"\"\n",
    "def implied_volatility_linear_interpolation(\n",
    "    market_price: float, \n",
    "    type: str,\n",
    "    spot: float, \n",
    "    strike: float, \n",
    "    maturity: float, \n",
    "    risk_free_rate: float, \n",
    "    convergence_threshold: float = 1e-6, \n",
    "    max_iterations: int = 1000\n",
    "):\n",
    "    \"\"\"\n",
    "    This function computes the implied volatility of a call option using linear interpolation.\n",
    "    \n",
    "    Args: \n",
    "        market_price (float): The market price of the call option.\n",
    "        spot (float): The current price of the underlying asset.\n",
    "        strike (float): The strike price of the option.\n",
    "        maturity (float): The time to maturity of the option.\n",
    "        risk_free_rate (float): The risk-free interest rate.\n",
    "        convergence_threshold (float): The threshold for convergence.\n",
    "        max_iterations (int): The maximum number of iterations.\n",
    "    \n",
    "    Returns:\n",
    "        vol_mid (float): The implied volatility of the call option.\n",
    "    \"\"\"\n",
    "    # ======= I. Initialization =======\n",
    "    vol_min, vol_max = 0.00001, 5.0  # Avoid division by zero and large values to prevent numerical issues.\n",
    "    iteration = 0\n",
    "\n",
    "    \n",
    "    call_price_min, put_price_min = Black_Scholes_Merton(spot, strike, maturity, risk_free_rate, vol_min)\n",
    "    call_price_max, put_price_max = Black_Scholes_Merton(spot, strike, maturity, risk_free_rate, vol_max)\n",
    "\n",
    "    if type == \"call\":\n",
    "        option_price_min = call_price_min\n",
    "        option_price_max = call_price_max\n",
    "    elif type == \"put\":\n",
    "        option_price_min = put_price_min\n",
    "        option_price_max = put_price_max\n",
    "        \n",
    "        \n",
    "    # ======= II. Iterative process =======\n",
    "    while iteration < max_iterations:\n",
    "        # ---- A. Interpolation of the volatility ----\n",
    "        vol_mid = vol_min + (market_price - option_price_min) * (vol_max - vol_min) / (option_price_max - option_price_min)\n",
    "        \n",
    "        # ---- B. Compute the price of the call option with the interpolated volatility ----\n",
    "        call_price_mid, put_price_mid = Black_Scholes_Merton(spot, strike, maturity, risk_free_rate, vol_mid)\n",
    "        \n",
    "        if type == \"call\":\n",
    "            option_price_mid = call_price_mid\n",
    "        elif type == \"put\":\n",
    "            option_price_mid = put_price_mid\n",
    "        \n",
    "        # ---- C. Check if it as close as we want ----\n",
    "        if abs(option_price_mid - market_price) < convergence_threshold:\n",
    "            return vol_mid\n",
    "        \n",
    "        # ---- D. Otherwise, update the bounds and iterate again----\n",
    "        if option_price_mid < market_price:\n",
    "            vol_min, option_price_min = vol_mid, option_price_mid\n",
    "        else:\n",
    "            vol_max, option_price_max = vol_mid, option_price_mid\n",
    "\n",
    "        iteration += 1\n",
    "\n",
    "    # ======= III. Print a message if convergence is not reached =====\n",
    "    print(f\"Convergence was not reached after {iteration}.\")\n",
    "    return vol_mid\n",
    "\n",
    "market_price = 2.5\n",
    "type = \"call\"\n",
    "spot = 15\n",
    "strike = 13\n",
    "maturity = 3/12\n",
    "risk_free_rate = 0.05\n",
    "\n",
    "implied_vol = implied_volatility_linear_interpolation(market_price, type, spot, strike, maturity, risk_free_rate)\n",
    "print(f\"Implied volatility: {implied_vol}\")"
   ]
  }
 ],
 "metadata": {
  "kernelspec": {
   "display_name": "CartesiusResolved",
   "language": "python",
   "name": "python3"
  },
  "language_info": {
   "codemirror_mode": {
    "name": "ipython",
    "version": 3
   },
   "file_extension": ".py",
   "mimetype": "text/x-python",
   "name": "python",
   "nbconvert_exporter": "python",
   "pygments_lexer": "ipython3",
   "version": "3.8.19"
  }
 },
 "nbformat": 4,
 "nbformat_minor": 2
}
