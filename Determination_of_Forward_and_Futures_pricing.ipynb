{
 "cells": [
  {
   "cell_type": "markdown",
   "metadata": {},
   "source": [
    "# Introduction to Futures and Forwards Valuation\n",
    "\n",
    "***Reminder :*** **Futures** and **forwards** are financial derivatives that obligate two parties to buy or sell an asset at a predetermined price on a future date. While forwards are customized and traded over-the-counter (OTC), futures are standardized and traded on exchanges.\n",
    "\n",
    "## Key Concepts\n",
    "- **Forward Price**: The agreed-upon price in a forward contract. It is set so that the contract has zero value at inception.\n",
    "- **Futures Price**: Similar to the forward price, but marked-to-market daily, meaning gains and losses are settled each day.\n",
    "- **Valuation**: The value of a forward or future depends on the current spot price of the underlying asset, the time to maturity, and the risk-free rate.\n",
    "\n",
    "For a non-dividend-paying asset, the forward price is:\n",
    "\n",
    "$$ F = S_0 \\times e^{rT} $$\n",
    "\n",
    "Where:\n",
    "- $ F $ = forward price\n",
    "- $ S_0 $ = current spot price of the underlying asset\n",
    "- $ r $ = risk-free interest rate (continuous compounding)\n",
    "- $ T $ = time to maturity\n",
    "\n",
    "The difference between futures and forwards lies primarily in the daily settlement mechanism of futures, which affects their pricing in certain market conditions."
   ]
  },
  {
   "cell_type": "markdown",
   "metadata": {},
   "source": [
    "### Pricing a Forward Contract\n",
    "\n",
    "To price a forward contract, we use the following formula:\n",
    "\n",
    "$$ f = (F_0 - K) \\exp(-rT) $$\n",
    "\n",
    "where:\n",
    "- $f$ is the price of the forward contract.\n",
    "- $F_0$ is the current forward price of the underlying asset.\n",
    "- $K$ is the strike price of the forward contract.\n",
    "- $r$ is the risk-free interest rate.\n",
    "- $T$ is the time to maturity of the contract (in years)."
   ]
  },
  {
   "cell_type": "markdown",
   "metadata": {},
   "source": [
    "## Problems & Exercises"
   ]
  },
  {
   "cell_type": "code",
   "execution_count": 1,
   "metadata": {},
   "outputs": [],
   "source": [
    "import numpy as np"
   ]
  },
  {
   "cell_type": "code",
   "execution_count": 2,
   "metadata": {},
   "outputs": [
    {
     "name": "stdout",
     "output_type": "stream",
     "text": [
      "Forward price : 30.759453615732866\n"
     ]
    }
   ],
   "source": [
    "# 5.12\n",
    "\"\"\"\n",
    "Long 6 months forward. Compute the forward price.\n",
    "\"\"\"\n",
    "spot0 = 30\n",
    "rf = 0.05\n",
    "\n",
    "forward_price = spot0 * np.exp(rf * 6/12)\n",
    "print(f'Forward price : {forward_price}')"
   ]
  },
  {
   "cell_type": "code",
   "execution_count": 3,
   "metadata": {},
   "outputs": [
    {
     "name": "stdout",
     "output_type": "stream",
     "text": [
      "Future price : 351.16861327340655\n"
     ]
    }
   ],
   "source": [
    "# 5.13\n",
    "\"\"\"\n",
    "Compute future price for 4 months contracts.\n",
    "\"\"\"\n",
    "spot0 = 350\n",
    "rf = 0.04\n",
    "dividend_rate = 0.03\n",
    "\n",
    "future_price = spot0 * np.exp((rf - dividend_rate) * 4/12)\n",
    "print(f'Future price : {future_price}')"
   ]
  },
  {
   "cell_type": "code",
   "execution_count": 4,
   "metadata": {},
   "outputs": [
    {
     "name": "stdout",
     "output_type": "stream",
     "text": [
      "Initial forward price is 42.050843855040966 and contract value is 0 \n",
      " after 6 months it 46.1391804235993 and 3.987395179022843\n"
     ]
    }
   ],
   "source": [
    "# 5.17\n",
    "\"\"\"\n",
    "Long one year forward. Compute forward price and contract value at different times. \n",
    "\"\"\"\n",
    "spot0 = 40\n",
    "rf = 0.05\n",
    "\n",
    "initial_value = 0 # as always\n",
    "forward_price = spot0 * np.exp(rf)\n",
    "\n",
    "spot1 = 45\n",
    "forward_price1 = spot1 * np.exp(rf * 6/12)\n",
    "old_contract_value = (forward_price1 - forward_price) * np.exp(-rf * 6/12)\n",
    "\n",
    "print(f'Initial forward price is {forward_price} and contract value is {initial_value} \\n after 6 months it {forward_price1} and {old_contract_value}')"
   ]
  },
  {
   "cell_type": "code",
   "execution_count": 5,
   "metadata": {},
   "outputs": [
    {
     "name": "stdout",
     "output_type": "stream",
     "text": [
      "Future price : 152.87724729261123\n"
     ]
    }
   ],
   "source": [
    "# 5.18\n",
    "\"\"\"\n",
    "Compute 6 months futures price. \n",
    "\"\"\"\n",
    "rf = 0.07\n",
    "dividend_rate = 0.032\n",
    "spot = 150 \n",
    "\n",
    "future_price = spot * np.exp((rf - dividend_rate) * 6/12)\n",
    "print(f'Future price : {future_price}')"
   ]
  },
  {
   "cell_type": "code",
   "execution_count": 6,
   "metadata": {},
   "outputs": [
    {
     "name": "stdout",
     "output_type": "stream",
     "text": [
      "Forward price in december is  : 1306.5162771172213\n"
     ]
    }
   ],
   "source": [
    "# 5.19\n",
    "\"\"\"\n",
    "Compute futures prices when the underlying give =! dividend rates. \n",
    "\"\"\"\n",
    "rf = 0.04\n",
    "dividend_rate1 =  0.05 # rate for august and november\n",
    "dividend_rate2 = 0.02 # for all others month\n",
    "july_spot = 1300\n",
    "\n",
    "december_forward_price = july_spot * np.exp(rf * 6/12 - 2 * dividend_rate1 / 12 - 4 * dividend_rate2 / 12)\n",
    "print(f'Forward price in december is  : {december_forward_price}')"
   ]
  },
  {
   "cell_type": "code",
   "execution_count": 7,
   "metadata": {},
   "outputs": [
    {
     "name": "stdout",
     "output_type": "stream",
     "text": [
      "Expected futures price in 4 months is 402.6755753416078\n"
     ]
    }
   ],
   "source": [
    "# 5.20\n",
    "\"\"\"\n",
    "Find Arbitrage opportunity. \n",
    "\"\"\"\n",
    "rf = 0.06 \n",
    "dividend_rate = 0.04\n",
    "spot = 400 \n",
    "future_4m_price = 405\n",
    "\n",
    "expected_future_4m_price = spot * np.exp((rf - dividend_rate) * 4/12)\n",
    "print(f'Expected futures price in 4 months is {expected_future_4m_price}')\n",
    "# We see that expected < real, so we have an arbitrage opportunity : borrow money to short futures + long stock\n",
    "# If expected > real then we long futures + short stocks and place money at risk free rate"
   ]
  },
  {
   "cell_type": "code",
   "execution_count": 8,
   "metadata": {},
   "outputs": [],
   "source": [
    "# 5.22\n",
    "\"\"\"\n",
    "Find Arbitrage opportunity.\n",
    "\"\"\"\n",
    "rf_SW = 0.01\n",
    "rf_FR = 0.02\n",
    "\n",
    "eurchf = 1.05\n",
    "future_price_eurchf = 1.05\n",
    "\n",
    "# Arbitrage : borrow money in EUR, change to CHF and place it rf + long future on eurchf. At the end you end up with 1% free. "
   ]
  },
  {
   "cell_type": "code",
   "execution_count": 9,
   "metadata": {},
   "outputs": [
    {
     "name": "stdout",
     "output_type": "stream",
     "text": [
      "Forward price : 26.144538580188172$\n"
     ]
    }
   ],
   "source": [
    "# 5.23\n",
    "\"\"\"\n",
    "Compute 9 months futures price. \n",
    "\"\"\"\n",
    "spot = 25\n",
    "storing_cost = 0.24 # per year, paid on a trimestrial basis\n",
    "rf = 0.05 \n",
    "\n",
    "present_value_of_storing = storing_cost / 4 + (storing_cost / 4) * np.exp(rf * 3 /12) + (storing_cost / 4) * np.exp(rf * 6/12) #  We pay storing cost of today, not th one in 9 months\n",
    "forward_price = (spot + present_value_of_storing) * np.exp(rf * 9/12)\n",
    "print(f'Forward price : {forward_price}$')\n"
   ]
  },
  {
   "cell_type": "code",
   "execution_count": 17,
   "metadata": {},
   "outputs": [
    {
     "name": "stdout",
     "output_type": "stream",
     "text": [
      "Forward USD/CHF : 1.0410504532454654\n"
     ]
    }
   ],
   "source": [
    "# 5.32\n",
    "\"\"\"\n",
    "Is there an arbitrage opportunity ? \n",
    "\"\"\"\n",
    "spot_usdchf = 1.0404 \n",
    "rf_USA = 0.0025\n",
    "rf_SW = 0\n",
    "forward_usdchf = 1.0300\n",
    "\n",
    "expected_forward = spot_usdchf * np.exp((rf_USA - rf_SW) * 3/12)\n",
    "print(f'Forward USD/CHF : {expected_forward}')\n",
    "# expected > real so there is an arbitrage -> borrow chf at 0%, change for 1.0404 USD and invest it at 0.25%, then change for CHF. "
   ]
  },
  {
   "cell_type": "code",
   "execution_count": 19,
   "metadata": {},
   "outputs": [
    {
     "name": "stdout",
     "output_type": "stream",
     "text": [
      "futures price 3 months : 1205.4121682455216 / 6 months : 1215.0941418487614\n"
     ]
    }
   ],
   "source": [
    "# 5.33\n",
    "\"\"\"\n",
    "Compute 3 months and 6 months futures price. \n",
    "\"\"\"\n",
    "spot = 1200\n",
    "rf_3m = 0.03\n",
    "dividend_rate_3m = 0.012\n",
    "rf_6m = 0.035\n",
    "dividend_rate_6m = 0.01\n",
    "\n",
    "futures_price_3M = spot * np.exp((rf_3m - dividend_rate_3m) * 3/12)\n",
    "futures_price_6M = spot * np.exp((rf_6m - dividend_rate_6m) * 6/12)\n",
    "print(f'futures price 3 months : {futures_price_3M} / 6 months : {futures_price_6M}')\n"
   ]
  },
  {
   "cell_type": "code",
   "execution_count": 23,
   "metadata": {},
   "outputs": [
    {
     "name": "stdout",
     "output_type": "stream",
     "text": [
      "0.01835074282096102\n"
     ]
    }
   ],
   "source": [
    "# 5.34\n",
    "\"\"\"\n",
    "Compute rf rate. \n",
    "\"\"\"\n",
    "spot_usdeur = 1.2000\n",
    "forward_usdeur = 1.1950\n",
    "rf_USA = 0.01\n",
    "\n",
    "# forward_usdeur = spot_usdeur * exp((rf_USA - rf_EUR) * 6/12)\n",
    "rf_EUR = rf_USA - np.log((forward_usdeur / spot_usdeur)) * 12/6 \n",
    "print(rf_EUR)"
   ]
  },
  {
   "cell_type": "code",
   "execution_count": 25,
   "metadata": {},
   "outputs": [
    {
     "name": "stdout",
     "output_type": "stream",
     "text": [
      "Maximum futures price in one year : 55.56355481880121\n"
     ]
    }
   ],
   "source": [
    "# 5.35\n",
    "\"\"\"\n",
    "Give a maximum for futures price. \n",
    "\"\"\"\n",
    "spot = 50\n",
    "storing_cost = 3 \n",
    "rf = 0.05\n",
    "\n",
    "present_value_of_storing = 3 * np.exp(-rf )\n",
    "max_futures_price = (spot + present_value_of_storing) * np.exp(rf)\n",
    "print(f'Maximum futures price in one year : {max_futures_price}')"
   ]
  }
 ],
 "metadata": {
  "kernelspec": {
   "display_name": "CartesiusResolved",
   "language": "python",
   "name": "python3"
  },
  "language_info": {
   "codemirror_mode": {
    "name": "ipython",
    "version": 3
   },
   "file_extension": ".py",
   "mimetype": "text/x-python",
   "name": "python",
   "nbconvert_exporter": "python",
   "pygments_lexer": "ipython3",
   "version": "3.11.5"
  }
 },
 "nbformat": 4,
 "nbformat_minor": 2
}
