{
 "cells": [
  {
   "cell_type": "markdown",
   "metadata": {},
   "source": [
    "# 📈 Introduction to Forwards and Futures\n",
    "\n",
    "## 🌟 Overview\n",
    "\n",
    "Forwards and futures are essential financial derivatives that allow the purchase or sale of an asset at a fixed price on a future date. They are used for hedging risks or speculation but differ in terms of trading venue, customization, and settlement.\n",
    "\n",
    "### 🔄 Forwards\n",
    "\n",
    "**Forwards** are customized contracts between two parties, traded over-the-counter (OTC).\n",
    "\n",
    "- **✨ Customization**: Tailored to specific needs.\n",
    "- **🏦 OTC Trading**: Directly between parties, increasing counterparty risk.\n",
    "- **📅 Settlement**: On the agreed date, with physical delivery or cash settlement.\n",
    "\n",
    "**Payoff formula:**\n",
    "\n",
    "$$\\text{Payoff}_{\\text{Long}} = S_T - K$$  \n",
    "$$\\text{Payoff}_{\\text{Short}} = K - S_T$$\n",
    "\n",
    "### 📊 Futures\n",
    "\n",
    "**Futures** are standardized contracts traded on exchanges, offering greater liquidity and lower counterparty risk.\n",
    "\n",
    "- **📏 Standardization**: Fixed contract sizes and dates.\n",
    "- **📈 Exchange-traded**: On regulated platforms like the CME.\n",
    "- **💹 Daily margin**: Gains and losses are settled daily.\n",
    "\n",
    "**Payoff formula:**\n",
    "\n",
    "$$\\text{Payoff}_{\\text{Long}} = S_T - K$$  \n",
    "$$\\text{Payoff}_{\\text{Short}} = K - S_T$$"
   ]
  },
  {
   "cell_type": "markdown",
   "metadata": {},
   "source": [
    "##  I. Example"
   ]
  },
  {
   "cell_type": "code",
   "execution_count": 2,
   "metadata": {},
   "outputs": [
    {
     "name": "stdout",
     "output_type": "stream",
     "text": [
      "capital invested on day 1 : 350000\n",
      "margin deposit on day 1 : 12000\n"
     ]
    }
   ],
   "source": [
    "# Taking 2 * long position at day 1 on two gold futures\n",
    "\n",
    "bought_contracts = 2 # number of contrcats we want\n",
    "futures_price_day1 = 1750 # per ounce\n",
    "contract_size = 100 # number of ounce per contract\n",
    "initial_margin = 6000 # initial margin required per contract\n",
    "\n",
    "position_taken = bought_contracts * futures_price_day1 * contract_size\n",
    "initial_deposit = bought_contracts * initial_margin\n",
    "print(f'capital invested on day 1 : {position_taken}')\n",
    "print(f'margin deposit on day 1 : {initial_deposit}')\n"
   ]
  },
  {
   "cell_type": "code",
   "execution_count": 3,
   "metadata": {},
   "outputs": [
    {
     "name": "stdout",
     "output_type": "stream",
     "text": [
      "returns on day 2 : -1800\n",
      "margin deposit on day 2 : 10200\n"
     ]
    }
   ],
   "source": [
    "# Seeing how the margin deposit changes with changes on futures price\n",
    "\n",
    "futures_price_day2 = 1741 # suppose that the futures price havec changed to 1741$\n",
    "win_or_loss = (futures_price_day2 - futures_price_day1) * bought_contracts * contract_size # Change in price multiplied by the position size\n",
    "print(f'returns on day 2 : {win_or_loss}')\n",
    "\n",
    "margin_deposit = initial_deposit + win_or_loss\n",
    "print(f'margin deposit on day 2 : {margin_deposit}')"
   ]
  },
  {
   "cell_type": "code",
   "execution_count": 4,
   "metadata": {},
   "outputs": [
    {
     "name": "stdout",
     "output_type": "stream",
     "text": [
      "maintenance margin for position : 9000.0\n",
      "returns on day 3 : -2200\n",
      "margin deposit on day 3 : 8000\n",
      "cash to add to deposit : 4000\n"
     ]
    }
   ],
   "source": [
    "# Introducing maintenance margin\n",
    "\n",
    "maintenance_margin = 0.75 * initial_deposit\n",
    "print(f'maintenance margin for position : {maintenance_margin}') # mimimum cash to have on margin account\n",
    "\n",
    "# What happens if margin deposit goes below this threshold ? \n",
    "futures_price_day3 = 1730 \n",
    "win_or_loss = (futures_price_day3 - futures_price_day2) * bought_contracts * contract_size\n",
    "print(f'returns on day 3 : {win_or_loss}')\n",
    "\n",
    "margin_deposit += win_or_loss\n",
    "print(f'margin deposit on day 3 : {margin_deposit}')\n",
    "\n",
    "if margin_deposit < maintenance_margin: # If the investor can add to margin deposit, otherwise position is closed\n",
    "    cash_to_add = initial_deposit - margin_deposit\n",
    "    print(f'cash to add to deposit : {cash_to_add}')"
   ]
  },
  {
   "cell_type": "markdown",
   "metadata": {},
   "source": [
    "## II. Problems & Exercises"
   ]
  },
  {
   "cell_type": "code",
   "execution_count": 5,
   "metadata": {},
   "outputs": [
    {
     "name": "stdout",
     "output_type": "stream",
     "text": [
      "new futures price should be > : 17.4 which is a return of 1.1627906976744145%\n",
      "3000.0000000000036\n"
     ]
    }
   ],
   "source": [
    "# Exercise 2.10\n",
    "\n",
    "short_position = 1 # We short 1 contract\n",
    "initial_futures_price = 17.20 \n",
    "contract_size = 5000\n",
    "initial_deposit = 4000\n",
    "maintenance_margin = 3000\n",
    "\n",
    "# Question : Which is the minimum price change that leads to a margin call ? \n",
    "\n",
    "# initial_deposit + (initial_futures_price - new_futures_price) * contract_size * short_position < maintenace_margin ------- because we short the contracts\n",
    "# => new_futures_price = initial_futures_price - (maintenance_margin - initial_deposit) / (short_position * contract_size) \n",
    "new_futures_price = initial_futures_price - (maintenance_margin - initial_deposit) / (short_position * contract_size)\n",
    "futures_price_return = 100 * (new_futures_price - initial_futures_price) / initial_futures_price\n",
    "print(f'new futures price should be > : {new_futures_price} which is a return of {futures_price_return}%')\n",
    "\n",
    "# Checking results \n",
    "win_or_loss = (initial_futures_price - new_futures_price) * contract_size * short_position\n",
    "margin_deposit = initial_deposit + win_or_loss\n",
    "print(margin_deposit)"
   ]
  },
  {
   "cell_type": "code",
   "execution_count": 6,
   "metadata": {},
   "outputs": [
    {
     "name": "stdout",
     "output_type": "stream",
     "text": [
      "you have made 2200.0000000000027$ of profits\n"
     ]
    }
   ],
   "source": [
    "# Exercise 2.11\n",
    "\n",
    "long_position = 1\n",
    "initial_futures_price = 48.30\n",
    "new_futures_price = 50.50\n",
    "contract_size = 1000\n",
    "\n",
    "returns = new_futures_price - initial_futures_price\n",
    "profits = returns * contract_size * long_position\n",
    "\n",
    "print(f'you have made {profits}$ of profits')"
   ]
  },
  {
   "cell_type": "code",
   "execution_count": 3,
   "metadata": {},
   "outputs": [
    {
     "name": "stdout",
     "output_type": "stream",
     "text": [
      "new futures price should be < : 1.5 which is a return of -6.250000000000005%\n",
      "new futures price should be > : 1.6666666666666667 which is a return of 4.166666666666665%\n"
     ]
    }
   ],
   "source": [
    "# Exercise 2.16\n",
    "\n",
    "long_position = 2\n",
    "contract_size = 15000\n",
    "initial_futures_price = 1.6\n",
    "initial_deposit = 6000\n",
    "maintenance_margin = 4500\n",
    "\n",
    "# 1) minimal variance before margin call \n",
    "new_futures_price = (maintenance_margin - initial_deposit) / (1 * contract_size) + initial_futures_price # We compute it for one contract\n",
    "futures_price_return = 100 * (new_futures_price - initial_futures_price) / initial_futures_price\n",
    "print(f'new futures price should be < : {new_futures_price} which is a return of {futures_price_return}%')\n",
    "\n",
    "# 2) which conditions to withdraw 2000$ ?\n",
    "new_futures_price = 2000 / (long_position * contract_size) + initial_futures_price\n",
    "futures_price_return = 100 * (new_futures_price - initial_futures_price) / initial_futures_price\n",
    "print(f'new futures price should be > : {new_futures_price} which is a return of {futures_price_return}%')"
   ]
  }
 ],
 "metadata": {
  "kernelspec": {
   "display_name": "base",
   "language": "python",
   "name": "python3"
  },
  "language_info": {
   "codemirror_mode": {
    "name": "ipython",
    "version": 3
   },
   "file_extension": ".py",
   "mimetype": "text/x-python",
   "name": "python",
   "nbconvert_exporter": "python",
   "pygments_lexer": "ipython3",
   "version": "3.11.5"
  }
 },
 "nbformat": 4,
 "nbformat_minor": 2
}
