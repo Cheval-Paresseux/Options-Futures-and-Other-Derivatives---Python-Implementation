{
 "cells": [
  {
   "cell_type": "markdown",
   "metadata": {},
   "source": [
    "# 🛡️ Hedging Strategies Using Futures\n",
    "\n",
    "## Introduction\n",
    "This notebook explores **hedging strategies** with futures contracts, focusing on minimizing risk in portfolios. We delve into key concepts such as **basis risk** and **hedge ratios**, following John Hull's approach. Additionally, we will discuss how to calculate the optimal number of contracts, adjust the beta of a portfolio, and incorporate marking-to-market adjustments.\n",
    "\n",
    "## 📉 Basis Risk\n",
    "Basis risk arises when the futures contract price does not perfectly track the spot price of the underlying asset. It is defined as:\n",
    "\n",
    "$$\n",
    "\\text{Basis} = S_t - F_t\n",
    "$$\n",
    "\n",
    "Where:\n",
    "- $S_t$ is the spot price at time $t$\n",
    "- $F_t$ is the futures price at time $t$\n",
    "\n",
    "## 🔄 Hedge Ratios\n",
    "The optimal hedge ratio ($h^*$) is derived from the principle of minimizing the variance of the hedged portfolio. According to John Hull, it is calculated as:\n",
    "\n",
    "$$\n",
    "h^* = \\rho \\frac{\\sigma_S}{\\sigma_F}\n",
    "$$\n",
    "\n",
    "Where:\n",
    "- $\\rho$ is the correlation coefficient between the changes in the spot price and the futures price.\n",
    "- $\\sigma_S$ is the standard deviation of the changes in the spot price.\n",
    "- $\\sigma_F$ is the standard deviation of the changes in the futures price.\n",
    "\n",
    "### 📊 Optimal Number of Contracts\n",
    "Once the optimal hedge ratio is determined, the next step is to calculate the optimal number of futures contracts to hedge the position. This is given by:\n",
    "\n",
    "$$\n",
    "N^* = h^* \\frac{QA}{QF}\n",
    "$$\n",
    "\n",
    "Where:\n",
    "- $N^*$ is the optimal number of futures contracts.\n",
    "- $QA$ is the size of the position being hedged.\n",
    "- $QF$ is the contract size of one futures contract.\n",
    "\n",
    "### 📈 Adjusting Portfolio Beta with Futures\n",
    "Futures can also be used to adjust the beta ($\\beta$) of a portfolio. If you want to change the beta of a portfolio with two assets, the number of contracts needed is calculated as:\n",
    "\n",
    "$$\n",
    "N = \\frac{(\\beta_T - \\beta_P) \\cdot V_A}{\\beta_F \\cdot V_F}\n",
    "$$\n",
    "\n",
    "Where:\n",
    "- $N$ is the number of futures contracts.\n",
    "- $\\beta_T$ is the target beta of the portfolio.\n",
    "- $\\beta_P$ is the current beta of the portfolio.\n",
    "- $\\beta_F$ is the beta of the futures contract.\n",
    "- $V_P$ is the value of the portfolio."
   ]
  },
  {
   "cell_type": "code",
   "execution_count": 4,
   "metadata": {},
   "outputs": [],
   "source": [
    "import numpy as np"
   ]
  },
  {
   "cell_type": "code",
   "execution_count": 5,
   "metadata": {},
   "outputs": [
    {
     "name": "stdout",
     "output_type": "stream",
     "text": [
      "short position result = 2.3000000000000003\n",
      "which is equal to F1 + base2 : 2.3000000000000003\n"
     ]
    }
   ],
   "source": [
    "# Example of the basis risk\n",
    "\n",
    "spot_price_t1 = 2.50\n",
    "future_price_t1 = 2.20\n",
    "base1 = spot_price_t1 - future_price_t1\n",
    "\n",
    "spot_price_t2 = 2\n",
    "future_price_t2 = 1.90\n",
    "base2 = spot_price_t2 - future_price_t2\n",
    "\n",
    "future_profit = future_price_t1 - future_price_t2 # short position\n",
    "short_position_result = spot_price_t2 + future_profit\n",
    "f1_b2 = future_price_t1 + base2\n",
    "print(f'short position result = {short_position_result}')\n",
    "print(f'which is equal to F1 + base2 : {f1_b2}')"
   ]
  },
  {
   "cell_type": "code",
   "execution_count": 6,
   "metadata": {},
   "outputs": [
    {
     "name": "stdout",
     "output_type": "stream",
     "text": [
      "Hedge ratio : 0.7797571884984025\n",
      "Optimal number of contracts : 37\n"
     ]
    }
   ],
   "source": [
    "# Example of hedging using futures\n",
    "\n",
    "sigma_F = 0.0313 # Futures price volatility\n",
    "sigma_S = 0.0263 # Spot price volatility\n",
    "rho = 0.928 # correlation between them\n",
    "\n",
    "hedge_ratio = rho * (sigma_S / sigma_F)\n",
    "print(f'Hedge ratio : {hedge_ratio}')\n",
    "\n",
    "position_size = 2000000 # We need to hedge 2M fuel gallons\n",
    "contract_size = 42000\n",
    "\n",
    "optimal_number_of_contracts = round(hedge_ratio * (position_size / contract_size)) \n",
    "print(f'Optimal number of contracts : {optimal_number_of_contracts}')\n",
    "\n",
    "# Note : in python an easier way to compute hedge ratios is by directly computing the LinearRegression, way easier when trying to hedge multiple assets..."
   ]
  },
  {
   "cell_type": "markdown",
   "metadata": {},
   "source": [
    "## Problems & Exercises "
   ]
  },
  {
   "cell_type": "code",
   "execution_count": 7,
   "metadata": {},
   "outputs": [
    {
     "name": "stdout",
     "output_type": "stream",
     "text": [
      "hedge ratio : 0.6419753086419754\n"
     ]
    }
   ],
   "source": [
    "# 3.13\n",
    "\"\"\"\n",
    "We want to compute the hedge ratio given those parameters.\n",
    "\"\"\"\n",
    "sigma_S = 0.65 # Spot volatility\n",
    "sigma_F = 0.81 # Futures volatility\n",
    "rho = 0.8 # Correlation\n",
    "\n",
    "hedge_ratio = rho * (sigma_S / sigma_F)\n",
    "print(f'hedge ratio : {hedge_ratio}')"
   ]
  },
  {
   "cell_type": "code",
   "execution_count": 8,
   "metadata": {},
   "outputs": [
    {
     "name": "stdout",
     "output_type": "stream",
     "text": [
      "in order to divide the beta by 2 you need to short 192 futures contracts\n"
     ]
    }
   ],
   "source": [
    "# 3.14\n",
    "\"\"\"\n",
    "A company wants to hedge its portfolio with CAC40 futures contracts. \n",
    "\"\"\"\n",
    "position_value = 20000000\n",
    "position_beta = 1.2\n",
    "\n",
    "spot_price = 6240\n",
    "contract_size = 10 * spot_price\n",
    "\n",
    "target_beta = 0.6\n",
    "\n",
    "number_of_futures_to_short = round((position_value / contract_size) * (position_beta - target_beta))\n",
    "print(f'in order to divide the beta by 2 you need to short {number_of_futures_to_short} futures contracts')"
   ]
  },
  {
   "cell_type": "code",
   "execution_count": 9,
   "metadata": {},
   "outputs": [
    {
     "name": "stdout",
     "output_type": "stream",
     "text": [
      "We will need to long 3 futures contracts\n"
     ]
    }
   ],
   "source": [
    "# 3.23\n",
    "\"\"\"\n",
    "We want to lock a price (hedge) for the purchase of livestock in 1 months.\n",
    "\"\"\"\n",
    "sigma_S = 1.2\n",
    "sigma_F = 1.4\n",
    "rho = 0.7\n",
    "\n",
    "position_size = 200000\n",
    "contract_size = 40000\n",
    "\n",
    "# We'll long futures on october 15th to sell those on november 15th. \n",
    "# With the right number of futures contract we'll be fully hedged as the value of our futures will move as the money we'll need to buy livestock.\n",
    "\n",
    "hedge_ratio = rho * (sigma_S / sigma_F)\n",
    "optimal_number_of_contracts = round(hedge_ratio * (position_size / contract_size))\n",
    "print(f'We will need to long {optimal_number_of_contracts} futures contracts')"
   ]
  },
  {
   "cell_type": "code",
   "execution_count": 10,
   "metadata": {},
   "outputs": [
    {
     "name": "stdout",
     "output_type": "stream",
     "text": [
      "We will short : 43 futures contract\n"
     ]
    }
   ],
   "source": [
    "# 3.25\n",
    "\"\"\"\n",
    "Hedging a portfolio against volatility. \n",
    "\"\"\"\n",
    "position_size = 50000 * 30\n",
    "contract_size = 10 * 4500\n",
    "beta = 1.3\n",
    "\n",
    "# We will hedge the position by shorting futures\n",
    "number_of_futures_to_short = round(beta * (position_size / contract_size))\n",
    "print(f'We will short : {number_of_futures_to_short} futures contract')"
   ]
  },
  {
   "cell_type": "code",
   "execution_count": 11,
   "metadata": {},
   "outputs": [
    {
     "name": "stdout",
     "output_type": "stream",
     "text": [
      "The maximum forward price is 1242.7436505595479$\n"
     ]
    }
   ],
   "source": [
    "# 3.28\n",
    "\"\"\"\n",
    "As a sell-side company we want to give a forward price. \n",
    "\"\"\"\n",
    "gold_loan_rate = 0.015\n",
    "rf = 0.05\n",
    "spot_price = 1200\n",
    "\n",
    "# If we sell a futures contract, then to hedge the position we'll to borrow the same qty of gold\n",
    "max_forward_price = spot_price * np.exp(rf - gold_loan_rate) # everything is computed at annual rate\n",
    "print(f'The maximum forward price is {max_forward_price}$')"
   ]
  },
  {
   "cell_type": "code",
   "execution_count": 19,
   "metadata": {},
   "outputs": [
    {
     "name": "stdout",
     "output_type": "stream",
     "text": [
      "The expected returns by order of beta : 0.064 / 0.08499999999999999 / 0.148\n"
     ]
    }
   ],
   "source": [
    "# 3.29\n",
    "\"\"\"\n",
    "Computing expected returns of different related portfolios.\n",
    "\"\"\"\n",
    "expected_return = 0.12\n",
    "rf = 0.05\n",
    "beta1 = 0.2\n",
    "beta2 = 0.5\n",
    "beta3 = 1.4 \n",
    "\n",
    "# We'll use CAPM \n",
    "expected_return_beta1 = rf + beta1 * (expected_return - rf) # Beta affects only excess returns\n",
    "expected_return_beta2 = rf + beta2 * (expected_return - rf)\n",
    "expected_return_beta3 = rf + beta3 * (expected_return - rf)\n",
    "\n",
    "print(f'The expected returns by order of beta : {expected_return_beta1} / {expected_return_beta2} / {expected_return_beta3}')"
   ]
  },
  {
   "cell_type": "code",
   "execution_count": 21,
   "metadata": {},
   "outputs": [
    {
     "name": "stdout",
     "output_type": "stream",
     "text": [
      "Hedging cost/proit for long position : -60000.0 / for short position 60000.0\n"
     ]
    }
   ],
   "source": [
    "# 3.31\n",
    "\"\"\"\n",
    "We want to hedge a portfolio against volatility.\n",
    "\"\"\"\n",
    "number_of_contract = 60\n",
    "contract_size = 5000\n",
    "basis = 0.20 # $ per ounce\n",
    "\n",
    "# hedging a long position \n",
    "hedging_cost_l = -number_of_contract * contract_size * basis # basis = Spot - Forward-> we'll need to add cash to take a long position\n",
    "\n",
    "# hedging a short position \n",
    "hedging_cost_s = number_of_contract * contract_size * basis\n",
    "\n",
    "print(f'Hedging cost/proit for long position : {hedging_cost_l} / for short position {hedging_cost_s}')"
   ]
  },
  {
   "cell_type": "code",
   "execution_count": 25,
   "metadata": {},
   "outputs": [
    {
     "name": "stdout",
     "output_type": "stream",
     "text": [
      "Minimum variance hedge ratio : 1.02125\n",
      "We should short 11 futures contracts\n",
      "We should short 12 futures contracts if marking to market\n"
     ]
    }
   ],
   "source": [
    "# 3.32\n",
    "\"\"\"\n",
    "We want to hedge a portfolio. \n",
    "\"\"\"\n",
    "position_size = 55000\n",
    "contract_size = 5000\n",
    "rho = 0.95\n",
    "\n",
    "spot_price = 28\n",
    "sigma_S = 0.43\n",
    "\n",
    "future_price = 27\n",
    "sigma_F = 0.40\n",
    "\n",
    "# Minimum variance hedge ratio \n",
    "hedge_ratio = rho * (sigma_S / sigma_F)\n",
    "print(f'Minimum variance hedge ratio : {hedge_ratio}')\n",
    "\n",
    "# We should take a short position on futures contract \n",
    "optimal_number_of_contracts = round(hedge_ratio * position_size / contract_size)\n",
    "print(f'We should short {optimal_number_of_contracts} futures contracts')\n",
    "\n",
    "# Taking into account marking to market \n",
    "optimal_number_of_contracts = round(hedge_ratio * (position_size * spot_price) / (contract_size * future_price))\n",
    "print(f'We should short {optimal_number_of_contracts} futures contracts if marking to market')"
   ]
  }
 ],
 "metadata": {
  "kernelspec": {
   "display_name": "base",
   "language": "python",
   "name": "python3"
  },
  "language_info": {
   "codemirror_mode": {
    "name": "ipython",
    "version": 3
   },
   "file_extension": ".py",
   "mimetype": "text/x-python",
   "name": "python",
   "nbconvert_exporter": "python",
   "pygments_lexer": "ipython3",
   "version": "3.11.5"
  }
 },
 "nbformat": 4,
 "nbformat_minor": 2
}
