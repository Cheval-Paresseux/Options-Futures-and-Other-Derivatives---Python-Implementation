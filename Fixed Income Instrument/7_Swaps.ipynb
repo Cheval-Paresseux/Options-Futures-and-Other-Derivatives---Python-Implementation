{
 "cells": [
  {
   "cell_type": "markdown",
   "metadata": {},
   "source": [
    "# 🔄 Swaps: Interest Rate and Currency Swaps\n",
    "\n",
    "## Introduction\n",
    "This notebook provides an in-depth exploration of **swaps**, as presented in Chapter 7 of John Hull's *Options, Futures, and Other Derivatives*. We will cover the key concepts, pricing mechanisms, and applications of **interest rate swaps** and **currency swaps**.\n",
    "\n",
    "## 🏦 Interest Rate Swaps\n",
    "An **interest rate swap** involves exchanging cash flows between two parties, typically swapping fixed-rate payments for floating-rate payments or vice versa. The most common type is the **plain vanilla interest rate swap**, where one party pays a fixed rate while the other pays a floating rate based on a reference rate like LIBOR.\n",
    "\n",
    "The general cash flow structure of an interest rate swap is:\n",
    "\n",
    "- **Fixed payment leg**: The party making fixed payments will pay a fixed interest rate, calculated on a notional principal.\n",
    "  \n",
    "- **Floating payment leg**: The party making floating payments will pay interest based on a reference rate (e.g., LIBOR) adjusted periodically.\n",
    "\n",
    "### 📊 Fixed and Floating Cash Flows\n",
    "- **Fixed Cash Flow**:\n",
    "  $$ \n",
    "  \\text{Fixed Cash Flow} = \\text{Notional Principal} \\times \\frac{\\text{Fixed Rate}}{\\text{Payment Frequency}} \n",
    "  $$\n",
    "\n",
    "- **Floating Cash Flow**:\n",
    "  $$ \n",
    "  \\text{Floating Cash Flow} = \\text{Notional Principal} \\times \\frac{\\text{Floating Rate}}{\\text{Payment Frequency}} \n",
    "  $$\n",
    "\n",
    "## 💱 Currency Swaps\n",
    "In a **currency swap**, two parties exchange principal and interest payments in different currencies. The typical structure involves one party paying interest in one currency, while the other party pays interest in a different currency. At the swap's initiation, the principal amounts are exchanged, and at maturity, they are swapped back.\n",
    "\n",
    "### 🧮 Valuing a Currency Swap\n",
    "The value of a currency swap is determined by the present value of future cash flows in each currency. The steps include:\n",
    "1. **Discounting the foreign currency cash flows** at the foreign interest rate.\n",
    "2. **Converting** the foreign currency present value into the domestic currency using the current exchange rate.\n",
    "3. **Discounting the domestic cash flows** at the domestic interest rate.\n",
    "\n",
    "The net value of the swap is the difference between the present values of the cash flows.\n",
    "\n",
    "## 🛠️ Applications of Swaps\n",
    "Swaps are widely used for hedging, arbitrage, and speculation in financial markets. Some common applications include:\n",
    "- **Managing interest rate exposure**: Companies use interest rate swaps to convert floating-rate debt to fixed-rate debt (or vice versa) to manage their interest rate risk.\n",
    "- **Foreign exchange management**: Multinational corporations utilize currency swaps to hedge foreign currency cash flows and minimize foreign exchange risk.\n"
   ]
  },
  {
   "cell_type": "code",
   "execution_count": 1,
   "metadata": {},
   "outputs": [],
   "source": [
    "import pandas as pd \n",
    "import numpy as np"
   ]
  },
  {
   "cell_type": "code",
   "execution_count": 2,
   "metadata": {},
   "outputs": [
    {
     "name": "stdout",
     "output_type": "stream",
     "text": [
      "APPLE pays 7500000.0$ to Citigroup and Citigroup pays 5500000.0 to Apple for the first quarter.\n",
      "This results in a net flow of 2000000.0$ from APPLE to Citigroup.\n",
      "\n",
      "AAPLE receives at first quarter: -2000000.0$ and at second quarter: -1000000.0$ from Citigroup.\n"
     ]
    }
   ],
   "source": [
    "\"\"\"\n",
    "Example : Swap with fixed rate and floating rate (APPLE receives fixed rate and pays floating rate to Citigroup).\n",
    "\"\"\"\n",
    "# ======= I. Set the contract details =======\n",
    "principal = 1e9\n",
    "fixed_rate = 0.03 / 4 # 3% annual rate, quarterly payments\n",
    "SOFR = [0.022 / 4, 0.026 / 4] # 2.2% and 2.6% annual rate, quarterly payments \n",
    "\n",
    "# ======= II. Calculate the payments =======\n",
    "apple_payment = principal * fixed_rate\n",
    "citigroup_payment = principal * SOFR[0]\n",
    "\n",
    "difference = apple_payment - citigroup_payment\n",
    "print(f\"APPLE pays {apple_payment}$ to Citigroup and Citigroup pays {citigroup_payment} to Apple for the first quarter.\")\n",
    "print(f\"This results in a net flow of {difference}$ from APPLE to Citigroup.\")\n",
    "\n",
    "# ======= II.bis Simplifying the calculation =======\n",
    "flow_1 = principal * (SOFR[0] - fixed_rate)\n",
    "flow_2 = principal * (SOFR[1] - fixed_rate)\n",
    "\n",
    "print(f\"\\nAAPLE receives at first quarter: {flow_1}$ and at second quarter: {flow_2}$ from Citigroup.\")"
   ]
  },
  {
   "cell_type": "markdown",
   "metadata": {},
   "source": [
    "---\n",
    "## ***Problems & Exercises***"
   ]
  },
  {
   "cell_type": "code",
   "execution_count": 3,
   "metadata": {},
   "outputs": [
    {
     "name": "stdout",
     "output_type": "stream",
     "text": [
      "The situation presents an opportunity for a swap of 0.90%.\n"
     ]
    }
   ],
   "source": [
    "\"\"\"\n",
    "7.11\n",
    "Interest rate swap between two companies.\n",
    "A wants to receive a floating rate and B wants to receive a fixed rate.\n",
    "\"\"\"\n",
    "# ======= I. Set the details =======\n",
    "sofr = np.random.uniform(0.02, 0.05)\n",
    "\n",
    "principal = 20e6\n",
    "offered_rates = pd.DataFrame({\n",
    "    \"Fixed Rate\": [0.05, 0.064],\n",
    "    \"Floating Rate\": [sofr + 0.001, sofr + 0.006]\n",
    "})\n",
    "\n",
    "# ======= II. Evaluate if the situation can provide a advantage =======\n",
    "fixed_difference = abs(offered_rates[\"Fixed Rate\"][0] - offered_rates[\"Fixed Rate\"][1])\n",
    "floating_difference = abs((offered_rates[\"Floating Rate\"][0] - sofr) - (offered_rates[\"Floating Rate\"][1] - sofr))\n",
    "\n",
    "opportunity = fixed_difference - floating_difference\n",
    "if opportunity > 0:\n",
    "    print(f\"The situation presents an opportunity for a swap of {opportunity * 100:.2f}%.\")\n",
    "\n",
    "# As fixed rate is higher than floating rate, A will pay less with the fixed rate and B will pay less with the floating rate.\n",
    "# Therefore, A will receive the fixed rate and B will receive the floating rate."
   ]
  },
  {
   "cell_type": "code",
   "execution_count": 4,
   "metadata": {},
   "outputs": [
    {
     "name": "stdout",
     "output_type": "stream",
     "text": [
      "The present value of the swap for the party that pays the floating rate is 1281707.92$.\n",
      "The present value of the swap for the party that pays the fixed rate is -1281707.92$.\n"
     ]
    }
   ],
   "source": [
    "\"\"\"\n",
    "7.12\n",
    "Pricing a swap between fixed_rate and LIBOR 6 months.\n",
    "\"\"\"\n",
    "# ======= I. Set the details =======\n",
    "principal = 100e6\n",
    "fixed_rate = 0.04 # 4% annual rate, semestrial payments\n",
    "forward_LIBOR = 0.03 # 3% annual rate\n",
    "six_month_LIBOR = 0.024 # 2.4% annual rate, listed 2 months ago\n",
    "ois_rate = 0.027 # 2.7% annual rate, continuous payments\n",
    "\n",
    "# ======= II. Calculate the payments =======\n",
    "\"\"\"\n",
    "There will be two payments for this swap (semestrial payments), the first take place in 4 months and the second in 10 months.\n",
    "\"\"\"\n",
    "# First payment\n",
    "fixed_payment_1 = principal * (fixed_rate/2) \n",
    "floating_payment_1 = principal * (six_month_LIBOR/2) # We use the 6 months LIBOR rate listed 2 months ago\n",
    "present_value_exchange_1 = (fixed_payment_1 - floating_payment_1) * np.exp(-ois_rate * 4/12)\n",
    "\n",
    "# Second payment\n",
    "fixed_payment_2 = principal * (fixed_rate/2)\n",
    "floating_payment_2 = principal * (forward_LIBOR/2) # The 6 months LIBOR rate is not known yet for the second payment so we use the forward rate\n",
    "present_value_exchange_2 = (fixed_payment_2 - floating_payment_2) * np.exp(-ois_rate * 10/12)\n",
    "\n",
    "# ======= III. Calculate the present value of the swap =======\n",
    "present_value_swap = present_value_exchange_1 + present_value_exchange_2\n",
    "print(f\"The present value of the swap for the party that pays the floating rate is {present_value_swap:.2f}$.\")\n",
    "print(f\"The present value of the swap for the party that pays the fixed rate is {-present_value_swap:.2f}$.\")"
   ]
  },
  {
   "cell_type": "code",
   "execution_count": 5,
   "metadata": {},
   "outputs": [
    {
     "name": "stdout",
     "output_type": "stream",
     "text": [
      "The situation presents an opportunity for a swap of 1.10%.\n",
      "Company X will receive Yen and Company Y will receive USD.\n"
     ]
    }
   ],
   "source": [
    "\"\"\"\n",
    "7.13\n",
    "Creating a currency swap for a two companies.\n",
    "\"\"\"\n",
    "# ======= I. Set the details =======\n",
    "principal = 100\n",
    "data = pd.DataFrame({\n",
    "    \"Yen\": [0.05, 0.065],\n",
    "    \"USD\": [0.096, 0.10],\n",
    "}, index=[\"Company X\", \"Company Y\"])\n",
    "\n",
    "# ======= II. Evaluate if the situation can provide a advantage =======\n",
    "yen_difference = abs(data[\"Yen\"][0] - data[\"Yen\"][1])\n",
    "usd_difference = abs(data[\"USD\"][0] - data[\"USD\"][1])\n",
    "\n",
    "opportunity = yen_difference - usd_difference # If positive, it means that there is an opportunity for a swap\n",
    "if opportunity > 0:\n",
    "    print(f\"The situation presents an opportunity for a swap of {opportunity * 100:.2f}%.\")\n",
    "    print(\"Company X will receive Yen and Company Y will receive USD.\")"
   ]
  },
  {
   "cell_type": "code",
   "execution_count": 6,
   "metadata": {},
   "outputs": [
    {
     "name": "stdout",
     "output_type": "stream",
     "text": [
      "The present value of the payments in GBP is 22122119.65£.\n",
      "The present value of the payments in USD is 32031185.40$.\n",
      "The price of the swap for the party who pays the GBP is -2258100.05$.\n"
     ]
    }
   ],
   "source": [
    "\"\"\"\n",
    "7.14\n",
    "Pricing a swap on currency exchange.\n",
    "\"\"\"\n",
    "# ======= I. Set the details of the swap =======\n",
    "maturity = 15/12 # 15 months\n",
    "\n",
    "principal_GBP = 20e6 \n",
    "principal_USD = 30e6\n",
    "\n",
    "swap_rate_GBP = 0.1 # rates \n",
    "swap_rate_USD = 0.06\n",
    "\n",
    "# ======= II. Today's parameters =======\n",
    "rate_GBP = 0.07\n",
    "rate_USD = 0.04\n",
    "usd_gbp = 1.55\n",
    "\n",
    "# ======= III. Calculate the payments =======\n",
    "pv_payment1_GBP = principal_GBP * swap_rate_GBP * np.exp(-rate_GBP * 3/12)\n",
    "pv_payment2_GBP = (principal_GBP * swap_rate_GBP + principal_GBP) * np.exp(-rate_GBP * maturity)\n",
    "pv_payment_GBP = pv_payment1_GBP + pv_payment2_GBP\n",
    "print(f\"The present value of the payments in GBP is {pv_payment_GBP:.2f}£.\")\n",
    "\n",
    "pv_payment1_USD = principal_USD * swap_rate_USD * np.exp(-rate_USD * 3/12)\n",
    "pv_payment2_USD = (principal_USD * swap_rate_USD + principal_USD) * np.exp(-rate_USD * maturity)\n",
    "pv_payment_USD = pv_payment1_USD + pv_payment2_USD\n",
    "print(f\"The present value of the payments in USD is {pv_payment_USD:.2f}$.\")\n",
    "\n",
    "swap_price = pv_payment_USD - pv_payment_GBP * usd_gbp\n",
    "print(f\"The price of the swap for the party who pays the GBP is {swap_price:.2f}$.\")"
   ]
  },
  {
   "cell_type": "code",
   "execution_count": 9,
   "metadata": {},
   "outputs": [
    {
     "name": "stdout",
     "output_type": "stream",
     "text": [
      "The cost of default is 441120.29$.\n"
     ]
    }
   ],
   "source": [
    "\"\"\"\n",
    "7.19\n",
    "Supposing that one party does default, how to calculate the value of the swap.\n",
    "\"\"\"\n",
    "principal = 10e6\n",
    "maturity = 5 # with semestrial payments\n",
    "fixed_rate = 0.04\n",
    "libor_6m = 0.03 # At the middle of the 3rd year\n",
    "ois_rate = 0.018\n",
    "forward_rate = 0.02 # At the end of the 3rd year\n",
    "\n",
    "# ======= I. Calculate the payments =======\n",
    "# At the end of year 3 \n",
    "fixed_payment = principal * (fixed_rate/2)\n",
    "floating_payment = principal * (libor_6m/2)\n",
    "present_value_exchange = (fixed_payment - floating_payment) # Evaluated at the day of default\n",
    "\n",
    "# Other payments\n",
    "fixed_payments = [principal * (fixed_rate/2) for _ in range((5-3)*2)]\n",
    "floating_payments = [principal * (forward_rate/2) for _ in range((5-3)*2)]\n",
    "present_value_exchange_other = sum([(fixed_payments[i] - floating_payments[i]) * np.exp(-ois_rate * (i+1)/2) for i in range((5-3)*2)])\n",
    "\n",
    "# ======= II. Calculate the cost of default =======\n",
    "default_cost = present_value_exchange + present_value_exchange_other\n",
    "print(f\"The cost of default is {default_cost:.2f}$.\")"
   ]
  }
 ],
 "metadata": {
  "kernelspec": {
   "display_name": "base",
   "language": "python",
   "name": "python3"
  },
  "language_info": {
   "codemirror_mode": {
    "name": "ipython",
    "version": 3
   },
   "file_extension": ".py",
   "mimetype": "text/x-python",
   "name": "python",
   "nbconvert_exporter": "python",
   "pygments_lexer": "ipython3",
   "version": "3.11.5"
  }
 },
 "nbformat": 4,
 "nbformat_minor": 2
}
