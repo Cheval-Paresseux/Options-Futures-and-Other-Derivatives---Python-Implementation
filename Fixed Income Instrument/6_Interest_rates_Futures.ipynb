{
 "cells": [
  {
   "cell_type": "markdown",
   "metadata": {},
   "source": [
    "# 📈 Interest Rate Futures\n",
    "\n",
    "## Introduction\n",
    "This notebook provides a comprehensive exploration of **interest rate futures** as outlined in Chapter 6 of John Hull's *Options, Futures, and Other Derivatives*. This chapter covers the fundamental concepts, pricing mechanisms, and applications of **interest rate futures contracts** in managing and hedging interest rate risk.\n",
    "\n",
    "## 💼 Interest Rate Futures Contracts\n",
    "An **interest rate futures contract** is a standardized agreement to buy or sell a specified amount of a financial instrument or asset at a future date, with the price set today. These contracts are primarily used for hedging or speculating on future movements in interest rates. Common interest rate futures include those based on short-term instruments (like Eurodollar and Treasury bill futures) and longer-term instruments (like Treasury bond futures).\n",
    "\n",
    "### 📊 Key Elements of Interest Rate Futures\n",
    "- **Underlying Asset**: The asset may be a government bond, a Treasury bill, or a Eurodollar deposit, which determines the contract's interest rate sensitivity.\n",
    "  \n",
    "- **Contract Terms**: Each futures contract has standardized terms regarding the delivery date, contract size, and pricing method, making it highly liquid and attractive to both hedgers and speculators.\n",
    "\n",
    "### 💡 Pricing and Valuation\n",
    "The value of an interest rate futures contract depends on the movement of underlying interest rates. Key pricing approaches include:\n",
    "\n",
    "- **Marking to Market**: Each futures contract is marked to market daily, adjusting for gains and losses based on the settlement price.\n",
    "  \n",
    "- **Conversion Factors**: For bond futures, a conversion factor is used to adjust for differences in coupon rates and maturities among deliverable bonds.\n",
    "\n",
    "## 🔍 Applications of Interest Rate Futures\n",
    "Interest rate futures are versatile instruments widely used by financial institutions, corporations, and investors. Their applications include:\n",
    "\n",
    "- **Hedging**: Financial institutions use interest rate futures to protect against fluctuations in interest rates that may impact asset or liability portfolios.\n",
    "  \n",
    "- **Speculation**: Traders may use these contracts to bet on future changes in interest rates, capitalizing on expectations of rising or falling rates.\n",
    "  \n",
    "- **Managing Duration and Portfolio Sensitivity**: Interest rate futures provide an efficient way to adjust a portfolio’s sensitivity to interest rate movements without directly buying or selling bonds.\n"
   ]
  },
  {
   "cell_type": "code",
   "execution_count": 10,
   "metadata": {},
   "outputs": [],
   "source": [
    "import pandas as pd\n",
    "import numpy as np"
   ]
  },
  {
   "cell_type": "markdown",
   "metadata": {},
   "source": [
    "# ***Day Count Conventions***"
   ]
  },
  {
   "cell_type": "code",
   "execution_count": 11,
   "metadata": {},
   "outputs": [
    {
     "name": "stdout",
     "output_type": "stream",
     "text": [
      "The semester is 184 days and the accrued period is 124 days.\n",
      "The accrued interest is 2.6956521739130435.\n"
     ]
    }
   ],
   "source": [
    "# Let's take a bond with semestrial coupons payments.\n",
    "start_semester = \"2020-03-01\"\n",
    "end_semester = \"2020-09-01\"\n",
    "coupon = 4\n",
    "date = \"2020-07-03\" # We want to compute the accrued interest on the bond on 2020-07-03.\n",
    "\n",
    "# ======= Actual/Actual (ISDA) =======\n",
    "total_period = (pd.to_datetime(end_semester) - pd.to_datetime(start_semester)).days\n",
    "accrued_period = (pd.to_datetime(date) - pd.to_datetime(start_semester)).days\n",
    "print(f'The semester is {total_period} days and the accrued period is {accrued_period} days.')\n",
    "\n",
    "accrued_interest = (accrued_period / total_period) * coupon\n",
    "print(f'The accrued interest is {accrued_interest}.')"
   ]
  },
  {
   "cell_type": "code",
   "execution_count": 12,
   "metadata": {},
   "outputs": [
    {
     "name": "stdout",
     "output_type": "stream",
     "text": [
      "The semester is 180 days and the accrued period is 122 days.\n",
      "The accrued interest is 2.7111111111111112.\n"
     ]
    }
   ],
   "source": [
    "# ======= 30/360 =======\n",
    "#? As python doesn't provide a built-in function to compute the 30/360 day count convention, we need to implement it.\n",
    "def days_30_360(start_date, end_date):\n",
    "    \"\"\"\n",
    "    Python implementation of the 30/360 day count convention.\n",
    "    \n",
    "    Args:\n",
    "        start_date (str): The start date.\n",
    "        end_date (str): The end date.\n",
    "    \n",
    "    Returns:\n",
    "        int: The number of days between the two dates according\n",
    "    \"\"\"\n",
    "    # ======= I. Convert the dates to datetime objects =======\n",
    "    start_date = pd.to_datetime(start_date)\n",
    "    end_date = pd.to_datetime(end_date)\n",
    "\n",
    "    # ======= II. Adjust the day component =======\n",
    "    # The day component of each date is adjusted so that any day greater than 30 is set to 30\n",
    "    start_day = min(30, start_date.day)\n",
    "    end_day = min(30, end_date.day)\n",
    "\n",
    "    # ======= III. Compute the difference in days =======\n",
    "    year_diff = end_date.year - start_date.year\n",
    "    month_diff = end_date.month - start_date.month\n",
    "    day_diff = end_day - start_day\n",
    "\n",
    "    return 360 * year_diff + 30 * month_diff + day_diff\n",
    "\n",
    "total_period = days_30_360(start_semester, end_semester)\n",
    "accrued_period = days_30_360(start_semester, date)\n",
    "print(f'The semester is {total_period} days and the accrued period is {accrued_period} days.')\n",
    "\n",
    "accrued_interest = (accrued_period / total_period) * coupon\n",
    "print(f'The accrued interest is {accrued_interest}.')"
   ]
  },
  {
   "cell_type": "code",
   "execution_count": 13,
   "metadata": {},
   "outputs": [
    {
     "name": "stdout",
     "output_type": "stream",
     "text": [
      "The semester is 123 days and the accrued period is 1 days.\n",
      "The accrued interest is 0.032520325203252036.\n",
      "===============================================\n",
      "The semester is 123 days and the accrued period is 3 days.\n",
      "The accrued interest is 0.0975609756097561.\n"
     ]
    }
   ],
   "source": [
    "\"\"\"\n",
    "Let's compare the two day count conventions with the infamous February 28th.\n",
    "\"\"\"\n",
    "start_semester = \"2018-02-28\"\n",
    "end_semester = \"2018-07-01\"\n",
    "coupon = 4\n",
    "date = \"2018-03-01\" \n",
    "\n",
    "# ======= Actual/Actual (ISDA) =======\n",
    "total_period = (pd.to_datetime(end_semester) - pd.to_datetime(start_semester)).days\n",
    "accrued_period = (pd.to_datetime(date) - pd.to_datetime(start_semester)).days\n",
    "print(f'The semester is {total_period} days and the accrued period is {accrued_period} days.')\n",
    "\n",
    "accrued_interest = (accrued_period / total_period) * coupon\n",
    "print(f'The accrued interest is {accrued_interest}.')\n",
    "\n",
    "print(\"===============================================\")\n",
    "# ======= 30/360 =======\n",
    "total_period = days_30_360(start_semester, end_semester)\n",
    "accrued_period = days_30_360(start_semester, date)\n",
    "print(f'The semester is {total_period} days and the accrued period is {accrued_period} days.')\n",
    "\n",
    "accrued_interest = (accrued_period / total_period) * coupon\n",
    "print(f'The accrued interest is {accrued_interest}.')"
   ]
  },
  {
   "cell_type": "markdown",
   "metadata": {},
   "source": [
    "# ***Listing of Bonds***"
   ]
  },
  {
   "cell_type": "code",
   "execution_count": 14,
   "metadata": {},
   "outputs": [
    {
     "name": "stdout",
     "output_type": "stream",
     "text": [
      "The year is 365 days and the accrued period is 131 days.\n",
      "The bond price is 132.39342465753427.\n"
     ]
    }
   ],
   "source": [
    "\"\"\"\n",
    "Example of a bond with a clean price of 130.24 and a coupon rate of 6%.\n",
    "\"\"\"\n",
    "maturity = \"2025-10-25\"\n",
    "date = \"2021-03-05\"\n",
    "coupon_rate = 0.06\n",
    "clean_price = 130.24 # The price is expressed in percentage of the face value.\n",
    "\n",
    "last_coupon_date = \"2020-10-25\"\n",
    "next_coupon_date = \"2021-10-25\"\n",
    "\n",
    "total_period = (pd.to_datetime(next_coupon_date) - pd.to_datetime(last_coupon_date)).days\n",
    "accrued_period = (pd.to_datetime(date) - pd.to_datetime(last_coupon_date)).days\n",
    "\n",
    "accrued_interest = (accrued_period / total_period) * coupon_rate\n",
    "print(f'The year is {total_period} days and the accrued period is {accrued_period} days.')\n",
    "\n",
    "bond_price = clean_price + accrued_interest * 100 # We need to express the accrued interest in percentage of the face value as well.\n",
    "print(f'The bond price is {bond_price}.')"
   ]
  },
  {
   "cell_type": "markdown",
   "metadata": {},
   "source": [
    "# ***Bond Futures***"
   ]
  },
  {
   "cell_type": "code",
   "execution_count": 15,
   "metadata": {},
   "outputs": [
    {
     "name": "stdout",
     "output_type": "stream",
     "text": [
      "The bond price is 71931.05616438357.\n"
     ]
    }
   ],
   "source": [
    "\"\"\"\n",
    "Bond Futures are contracts on a fictive underlying. \n",
    "When the futures contract expires, the seller of the contract must get a real bond to deliver.\n",
    "To facilitate the delivery, the seller can deliver one of the bonds that are eligible for delivery.\n",
    "\"\"\"\n",
    "\n",
    "eligible_bonds = pd.DataFrame({\n",
    "    \"Bond\": [\"Bund1\", \"Bund2\", \"Bund3\", \"Bund4\"],\n",
    "    \"Coupon rate\": [0.0175, 0.015, 0.015, 0.015],\n",
    "    \"Maturity\": [\"2030-07-04\", \"2030-09-04\", \"2031-02-15\", \"2031-05-15\"],\n",
    "    \"Conversion factor\": [0.715427, 0.694342, 0.682731, 0.676665],\n",
    "})\n",
    "\n",
    "#? The futures underlying is a bond with a 6% coupon rate and a maturity of 10 years.\n",
    "#? As such a bond doesn't exist, we apply a conversion factor to the eligible bonds to make them equivalent to the underlying.\n",
    "\n",
    "nominal = 100000 # The underlying face value is 100,000$\n",
    "futures_price = 100 # The futures price is expressed in percentage of the face value.\n",
    "\n",
    "date = \"2021-09-23\"\n",
    "last_coupon_date = pd.to_datetime(eligible_bonds[\"Maturity\"][0]) - pd.DateOffset(years=9)\n",
    "next_coupon_date = pd.to_datetime(eligible_bonds[\"Maturity\"][0]) - pd.DateOffset(years=8)\n",
    "\n",
    "total_period = (next_coupon_date - last_coupon_date).days\n",
    "accrued_period = (pd.to_datetime(date) - last_coupon_date).days\n",
    "\n",
    "accrued_interest = ((accrued_period / total_period) * eligible_bonds[\"Coupon rate\"][0]) * futures_price\n",
    "conversion_factor = eligible_bonds[\"Conversion factor\"][0] * futures_price\n",
    "futures_bond_price = nominal * ((conversion_factor + accrued_interest) / futures_price)\n",
    "print(f'The bond price is {futures_bond_price}.')"
   ]
  },
  {
   "cell_type": "markdown",
   "metadata": {},
   "source": [
    "---\n",
    "# ***Problems & Exercices***"
   ]
  },
  {
   "cell_type": "code",
   "execution_count": 16,
   "metadata": {},
   "outputs": [
    {
     "name": "stdout",
     "output_type": "stream",
     "text": [
      "The accrued interest for a Treasury bond is 0.6277173913043479.\n",
      "The accrued interest for a Corporate bond is 0.6222222222222223.\n"
     ]
    }
   ],
   "source": [
    "\"\"\"\n",
    "6.11\n",
    "Determining the accrued interest for a Treasury bond and a Corporate bond on 2020-08-09.\n",
    "\"\"\"\n",
    "coupon_rate = 0.07 / 2\n",
    "last_coupon_date = \"2020-07-07\"\n",
    "next_coupon_date = \"2021-01-07\"\n",
    "date = \"2020-08-09\"\n",
    "nominal = 100\n",
    "\n",
    "# ======= For Treasury bonds (Exact/Exact) =======\n",
    "total_period = (pd.to_datetime(next_coupon_date) - pd.to_datetime(last_coupon_date)).days\n",
    "accrued_period = (pd.to_datetime(date) - pd.to_datetime(last_coupon_date)).days\n",
    "\n",
    "accrued_interest = (accrued_period / total_period) * (coupon_rate * nominal)\n",
    "print(f'The accrued interest for a Treasury bond is {accrued_interest}.')\n",
    "\n",
    "# ======= For Corporate bonds (30/360) =======\n",
    "total_period = days_30_360(last_coupon_date, next_coupon_date)\n",
    "accrued_period = days_30_360(last_coupon_date, date)\n",
    "\n",
    "accrued_interest = (accrued_period / total_period) * (coupon_rate * nominal)\n",
    "print(f'The accrued interest for a Corporate bond is {accrued_interest}.')"
   ]
  },
  {
   "cell_type": "code",
   "execution_count": 19,
   "metadata": {},
   "outputs": [
    {
     "name": "stdout",
     "output_type": "stream",
     "text": [
      "The semester is 365 days and the accrued period is 89 days.\n",
      "The bond price is 103.68176369863014.\n"
     ]
    }
   ],
   "source": [
    "\"\"\"\n",
    "6.12\n",
    "Determining the bond price for a bond with a clean price of 102-07 and a coupon rate of 6% on 2018-01-09.\n",
    "\"\"\"\n",
    "date = \"2018-01-09\"\n",
    "coupon_rate = 0.06\n",
    "maturity = \"2030-10-12\"\n",
    "quotation = \"102-07\"\n",
    "\n",
    "def quotation_to_price(quotation):\n",
    "    \"\"\"\n",
    "    Convert a quotation to a price.\n",
    "    \n",
    "    Args:\n",
    "        quotation (str): The quotation.\n",
    "    \n",
    "    Returns:\n",
    "        float: The price.\n",
    "    \"\"\"\n",
    "    price = float(quotation.split(\"-\")[0]) + float(quotation.split(\"-\")[1]) / 32\n",
    "    return price\n",
    "\n",
    "clean_price = quotation_to_price(quotation)\n",
    "last_coupon_date = pd.to_datetime(maturity) - pd.DateOffset(years=13)\n",
    "next_coupon_date = pd.to_datetime(maturity) - pd.DateOffset(years=12)\n",
    "\n",
    "total_period = (next_coupon_date - last_coupon_date).days\n",
    "accrued_period = (pd.to_datetime(date) - last_coupon_date).days\n",
    "print(f\"The semester is {total_period} days and the accrued period is {accrued_period} days.\")\n",
    "accrued_interest = (accrued_period / total_period) * (coupon_rate * 100)\n",
    "\n",
    "bond_price = clean_price + accrued_interest\n",
    "print(f'The bond price is {bond_price}.')"
   ]
  },
  {
   "cell_type": "code",
   "execution_count": 21,
   "metadata": {},
   "outputs": [
    {
     "name": "stdout",
     "output_type": "stream",
     "text": [
      "The P/L of the positon is 299.9999999999403.\n"
     ]
    }
   ],
   "source": [
    "\"\"\"\n",
    "6.13\n",
    "Computing the P/L for a long position on a bond future.\n",
    "\"\"\"\n",
    "old_quotation = 96.76\n",
    "new_quotation = 96.82\n",
    "position = 2 # long\n",
    "value_per_bp = 25 # The value per basis point is 25$ per contract, it is a standard value.\n",
    "\n",
    "bp_return = (new_quotation - old_quotation) * 100 # The return is expressed in basis points.\n",
    "pl = bp_return * position * value_per_bp\n",
    "\n",
    "print(f\"The P/L of the positon is {pl}.\")"
   ]
  },
  {
   "cell_type": "code",
   "execution_count": 31,
   "metadata": {},
   "outputs": [
    {
     "name": "stdout",
     "output_type": "stream",
     "text": [
      "The Zero Coupon rate is 0.030409090909090906.\n"
     ]
    }
   ],
   "source": [
    "\"\"\"\n",
    "6.14\n",
    "Computing the Zero Coupon rate given the forward Rate of a Eurodollar futures contract.\n",
    "\"\"\"\n",
    "LIBOR = 0.03 # 350 days\n",
    "forward_rate = 0.032 \n",
    "forward_maturity = 350\n",
    "\n",
    "# The forward give us the rate we'll have in 350 days. Before that we have the LIBOR rate.\n",
    "zc_maturity = 440\n",
    "zc_rate = ((LIBOR * forward_maturity + forward_rate * (zc_maturity - forward_maturity)) / zc_maturity)\n",
    "print(f\"The Zero Coupon rate is {zc_rate}.\")"
   ]
  },
  {
   "cell_type": "code",
   "execution_count": 32,
   "metadata": {},
   "outputs": [
    {
     "name": "stdout",
     "output_type": "stream",
     "text": [
      "The number of futures to short is 59.68248191784561.\n"
     ]
    }
   ],
   "source": [
    "\"\"\"\n",
    "6.15\n",
    "Hedging a bond portfolio against interest rate risk.\n",
    "\"\"\"\n",
    "portfolio_value = 6e6\n",
    "portfolio_duration_6months = 8.2 # The duration of the portfolio wil be 8.2 years in 6 months.\n",
    "tbond_futures_quotation = quotation_to_price(\"108-15\") # The quotation of the Treasury bond futures with 6 months to maturity.\n",
    "cheapest_to_deliver_bond_duration = 7.6\n",
    "futures_nominal = 1000\n",
    "\n",
    "# We can Hedge the portfolio by selling the Treasury bond futures.\n",
    "futures_contract_value = tbond_futures_quotation * futures_nominal\n",
    "nb_futures_to_short = (portfolio_value / futures_contract_value) * (portfolio_duration_6months / cheapest_to_deliver_bond_duration)\n",
    "print(f\"The number of futures to short is {nb_futures_to_short}.\")"
   ]
  },
  {
   "cell_type": "code",
   "execution_count": 37,
   "metadata": {},
   "outputs": [
    {
     "name": "stdout",
     "output_type": "stream",
     "text": [
      "The interest rate of the bond is 0.10267777682517525.\n"
     ]
    }
   ],
   "source": [
    "\"\"\"\n",
    "6.16\n",
    "Computing the interest rate of a bond in base Exact/365.\n",
    "\"\"\"\n",
    "nominal = 100\n",
    "maturity = 90 # The bond has a maturity of 90 days.\n",
    "quotation = 10\n",
    "\n",
    "interest_value = quotation / (360 / maturity)\n",
    "bond_value = nominal - interest_value\n",
    "\n",
    "continuous_bond_rate = (365 / maturity) * np.log(nominal / bond_value)\n",
    "print(f\"The interest rate of the bond is {continuous_bond_rate}.\")"
   ]
  },
  {
   "cell_type": "code",
   "execution_count": 39,
   "metadata": {},
   "outputs": [
    {
     "name": "stdout",
     "output_type": "stream",
     "text": [
      "The cheapest to deliver bond is Bund4 for 1.8739249999999856.\n"
     ]
    }
   ],
   "source": [
    "\"\"\"\n",
    "6.18\n",
    "Computing the cheapest to deliver bond.\n",
    "\"\"\"\n",
    "tbond_futures_quotation = quotation_to_price(\"101-12\")\n",
    "data = pd.DataFrame({\n",
    "    \"Bond\": [\"Bund1\", \"Bund2\", \"Bund3\", \"Bund4\"],\n",
    "    \"Quotation\": [\"125-05\", \"142-15\", \"115-31\", \"144-02\"],\n",
    "    \"Concordance\": [1.1231, 1.3792, 1.1149, 1.4026]\n",
    "})\n",
    "\n",
    "# We want to minimise Price - Concordance * Futures Quotation\n",
    "data[\"Price\"] = data[\"Quotation\"].apply(quotation_to_price)\n",
    "data['Delivery Price'] = data[\"Price\"] - data[\"Concordance\"] * tbond_futures_quotation\n",
    "cheapest_to_deliver = data.loc[data['Delivery Price'].idxmin()]\n",
    "print(f\"The cheapest to deliver bond is {cheapest_to_deliver['Bond']} for {cheapest_to_deliver['Delivery Price']}.\")"
   ]
  },
  {
   "cell_type": "code",
   "execution_count": 51,
   "metadata": {},
   "outputs": [
    {
     "name": "stdout",
     "output_type": "stream",
     "text": [
      "The future price is 90.81917951669523.\n"
     ]
    }
   ],
   "source": [
    "\"\"\"\n",
    "6.21\n",
    "Computing the future price of a SOFR 3 months.\n",
    "\"\"\"\n",
    "SOFR_6months = 0.075\n",
    "SOFR_9months = 0.08\n",
    "futures_maturity = 6/12 # The futures deliver the sofr contract in 6 months.\n",
    "underlying_maturity = 3/12 # The underlying SOFR contract has a maturity of 3 months.\n",
    "\n",
    "forward_3months_rate = SOFR_9months * (futures_maturity + underlying_maturity) - SOFR_6months * futures_maturity\n",
    "forward_annual_rate = forward_3months_rate * 4\n",
    "\n",
    "forward_real_annual_rate = ((1 + forward_annual_rate / 4) ** 4 - 1) * 360/365\n",
    "forward_price = 100 - forward_real_annual_rate * 100\n",
    "print(f\"The future price is {forward_price}.\")"
   ]
  }
 ],
 "metadata": {
  "kernelspec": {
   "display_name": "CartesiusResolved",
   "language": "python",
   "name": "python3"
  },
  "language_info": {
   "codemirror_mode": {
    "name": "ipython",
    "version": 3
   },
   "file_extension": ".py",
   "mimetype": "text/x-python",
   "name": "python",
   "nbconvert_exporter": "python",
   "pygments_lexer": "ipython3",
   "version": "3.8.19"
  }
 },
 "nbformat": 4,
 "nbformat_minor": 2
}
